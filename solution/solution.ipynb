{
 "cells": [
  {
   "cell_type": "markdown",
   "metadata": {},
   "source": [
    "# PayTM WebBlogs Challenge"
   ]
  },
  {
   "cell_type": "markdown",
   "metadata": {},
   "source": [
    "Necessary imports"
   ]
  },
  {
   "cell_type": "code",
   "execution_count": 111,
   "metadata": {},
   "outputs": [],
   "source": [
    "import pyspark\n",
    "from pyspark.sql import SparkSession\n",
    "from pyspark.sql.types import (DateType, StringType, StructField, StructType, TimestampType, ArrayType,\n",
    "                               FloatType, IntegerType, LongType)\n",
    "import pyspark.sql.functions as F\n",
    "from pyspark.sql import Window\n",
    "\n",
    "from pyspark.ml.feature import VectorAssembler\n",
    "from pyspark.ml.regression import LinearRegression\n",
    "from pyspark.ml.regression import RandomForestRegressor\n",
    "from pyspark.ml.evaluation import RegressionEvaluator\n",
    "from pyspark.ml.feature import OneHotEncoderEstimator, Normalizer\n",
    "\n",
    "from operator import add\n",
    "from functools import reduce\n",
    "\n",
    "from sklearn.model_selection import train_test_split\n",
    "from sklearn.preprocessing import MinMaxScaler\n",
    "from sklearn.metrics import mean_squared_error, mean_absolute_error, r2_score\n",
    "from sklearn.linear_model import Ridge\n",
    "\n",
    "from keras.models import Sequential\n",
    "from keras import layers\n",
    "from keras.optimizers import RMSprop\n",
    "\n",
    "from matplotlib import pyplot as plt\n",
    "import numpy as np\n",
    "import pandas as pd\n",
    "import math\n",
    "from datetime import timedelta  \n",
    "\n",
    "%matplotlib inline"
   ]
  },
  {
   "cell_type": "code",
   "execution_count": 3,
   "metadata": {},
   "outputs": [],
   "source": [
    "spark = SparkSession.builder.getOrCreate()"
   ]
  },
  {
   "cell_type": "code",
   "execution_count": 4,
   "metadata": {},
   "outputs": [
    {
     "data": {
      "text/html": [
       "\n",
       "            <div>\n",
       "                <p><b>SparkSession - in-memory</b></p>\n",
       "                \n",
       "        <div>\n",
       "            <p><b>SparkContext</b></p>\n",
       "\n",
       "            <p><a href=\"http://192.168.2.11:4040\">Spark UI</a></p>\n",
       "\n",
       "            <dl>\n",
       "              <dt>Version</dt>\n",
       "                <dd><code>v2.4.0</code></dd>\n",
       "              <dt>Master</dt>\n",
       "                <dd><code>local[*]</code></dd>\n",
       "              <dt>AppName</dt>\n",
       "                <dd><code>pyspark-shell</code></dd>\n",
       "            </dl>\n",
       "        </div>\n",
       "        \n",
       "            </div>\n",
       "        "
      ],
      "text/plain": [
       "<pyspark.sql.session.SparkSession at 0x1a2bdf2128>"
      ]
     },
     "execution_count": 4,
     "metadata": {},
     "output_type": "execute_result"
    }
   ],
   "source": [
    "spark"
   ]
  },
  {
   "cell_type": "markdown",
   "metadata": {},
   "source": [
    "Create the schema for reading the data from the given file.\n",
    "\n",
    "**NOTE**: I am reading the timestamp as *StringType* rather than *TimestampType* since I noticed with *TimestampType*, there is some loss of precision down the road."
   ]
  },
  {
   "cell_type": "code",
   "execution_count": 5,
   "metadata": {},
   "outputs": [],
   "source": [
    "schema = StructType([\n",
    "    StructField(\"timestamp\", StringType()),\n",
    "    StructField(\"elb\", StringType()),\n",
    "    StructField(\"client_port\", StringType()),\n",
    "    StructField(\"backend_port\", StringType()),\n",
    "    StructField(\"request_processing_time\", FloatType()),\n",
    "    StructField(\"backend_processing_time\", FloatType()),\n",
    "    StructField(\"response_processing_time\", FloatType()),\n",
    "    StructField(\"elb_status_code\", IntegerType()),\n",
    "    StructField(\"backend_status_code\", IntegerType()),\n",
    "    StructField(\"received_bytes\", LongType()),\n",
    "    StructField(\"sent_bytes\", LongType()),\n",
    "    StructField(\"request\", StringType()),\n",
    "    StructField(\"user_agent\", StringType()),\n",
    "    StructField(\"ssl_cipher\", StringType()),\n",
    "    StructField(\"ssl_protocol\", StringType())\n",
    "])"
   ]
  },
  {
   "cell_type": "markdown",
   "metadata": {},
   "source": [
    "Now read in the file and view the schema"
   ]
  },
  {
   "cell_type": "code",
   "execution_count": 6,
   "metadata": {},
   "outputs": [
    {
     "name": "stdout",
     "output_type": "stream",
     "text": [
      "root\n",
      " |-- timestamp: string (nullable = true)\n",
      " |-- elb: string (nullable = true)\n",
      " |-- client_port: string (nullable = true)\n",
      " |-- backend_port: string (nullable = true)\n",
      " |-- request_processing_time: float (nullable = true)\n",
      " |-- backend_processing_time: float (nullable = true)\n",
      " |-- response_processing_time: float (nullable = true)\n",
      " |-- elb_status_code: integer (nullable = true)\n",
      " |-- backend_status_code: integer (nullable = true)\n",
      " |-- received_bytes: long (nullable = true)\n",
      " |-- sent_bytes: long (nullable = true)\n",
      " |-- request: string (nullable = true)\n",
      " |-- user_agent: string (nullable = true)\n",
      " |-- ssl_cipher: string (nullable = true)\n",
      " |-- ssl_protocol: string (nullable = true)\n",
      "\n"
     ]
    }
   ],
   "source": [
    "df = spark.read.csv('2015_07_22_mktplace_shop_web_log_sample.log', sep=' ', schema=schema)\n",
    "df.printSchema()"
   ]
  },
  {
   "cell_type": "markdown",
   "metadata": {},
   "source": [
    "Have a look at some sample data"
   ]
  },
  {
   "cell_type": "code",
   "execution_count": 7,
   "metadata": {
    "scrolled": true
   },
   "outputs": [
    {
     "name": "stdout",
     "output_type": "stream",
     "text": [
      "+---------------------------+----------------+---------------------+-------------+-----------------------+-----------------------+------------------------+---------------+-------------------+--------------+----------+----------------------------------------------------------------------------------------------------------------+-------------------------------------------------------------------------------------------------------------+---------------------------+------------+\n",
      "|timestamp                  |elb             |client_port          |backend_port |request_processing_time|backend_processing_time|response_processing_time|elb_status_code|backend_status_code|received_bytes|sent_bytes|request                                                                                                         |user_agent                                                                                                   |ssl_cipher                 |ssl_protocol|\n",
      "+---------------------------+----------------+---------------------+-------------+-----------------------+-----------------------+------------------------+---------------+-------------------+--------------+----------+----------------------------------------------------------------------------------------------------------------+-------------------------------------------------------------------------------------------------------------+---------------------------+------------+\n",
      "|2015-07-22T09:00:28.019143Z|marketpalce-shop|123.242.248.130:54635|10.0.6.158:80|2.2E-5                 |0.026109               |2.0E-5                  |200            |200                |0             |699       |GET https://paytm.com:443/shop/authresponse?code=f2405b05-e2ee-4b0d-8f6a-9fed0fcfe2e0&state=null HTTP/1.1       |Mozilla/5.0 (Windows NT 6.1; WOW64) AppleWebKit/537.36 (KHTML, like Gecko) Chrome/43.0.2357.130 Safari/537.36|ECDHE-RSA-AES128-GCM-SHA256|TLSv1.2     |\n",
      "|2015-07-22T09:00:27.894580Z|marketpalce-shop|203.91.211.44:51402  |10.0.4.150:80|2.4E-5                 |0.15334                |2.6E-5                  |200            |200                |0             |1497      |GET https://paytm.com:443/shop/wallet/txnhistory?page_size=10&page_number=0&channel=web&version=2 HTTP/1.1      |Mozilla/5.0 (Windows NT 6.1; rv:39.0) Gecko/20100101 Firefox/39.0                                            |ECDHE-RSA-AES128-GCM-SHA256|TLSv1.2     |\n",
      "|2015-07-22T09:00:27.885745Z|marketpalce-shop|1.39.32.179:56419    |10.0.4.244:80|2.4E-5                 |0.164958               |1.7E-5                  |200            |200                |0             |157       |GET https://paytm.com:443/shop/wallet/txnhistory?page_size=10&page_number=0&channel=web&version=2 HTTP/1.1      |Mozilla/5.0 (Windows NT 6.1) AppleWebKit/537.36 (KHTML, like Gecko) Chrome/43.0.2357.134 Safari/537.36       |ECDHE-RSA-AES128-GCM-SHA256|TLSv1.2     |\n",
      "|2015-07-22T09:00:28.048369Z|marketpalce-shop|180.179.213.94:48725 |10.0.6.108:80|2.0E-5                 |0.002333               |2.1E-5                  |200            |200                |0             |35734     |GET https://paytm.com:443/shop/p/micromax-yu-yureka-moonstone-grey-MOBMICROMAX-YU-DUMM141CD60AF7C_34315 HTTP/1.0|-                                                                                                            |ECDHE-RSA-AES128-GCM-SHA256|TLSv1.2     |\n",
      "|2015-07-22T09:00:28.036251Z|marketpalce-shop|120.59.192.208:13527 |10.0.4.217:80|2.4E-5                 |0.015091               |1.6E-5                  |200            |200                |68            |640       |POST https://paytm.com:443/papi/v1/expresscart/verify HTTP/1.1                                                  |Mozilla/5.0 (Windows NT 6.1; WOW64) AppleWebKit/537.36 (KHTML, like Gecko) Chrome/44.0.2403.89 Safari/537.36 |ECDHE-RSA-AES128-GCM-SHA256|TLSv1.2     |\n",
      "+---------------------------+----------------+---------------------+-------------+-----------------------+-----------------------+------------------------+---------------+-------------------+--------------+----------+----------------------------------------------------------------------------------------------------------------+-------------------------------------------------------------------------------------------------------------+---------------------------+------------+\n",
      "only showing top 5 rows\n",
      "\n"
     ]
    }
   ],
   "source": [
    "df.show(5, False)"
   ]
  },
  {
   "cell_type": "markdown",
   "metadata": {},
   "source": [
    "## Question 1: Sessionize the data by IP"
   ]
  },
  {
   "cell_type": "markdown",
   "metadata": {},
   "source": [
    "For this, I mostly followed the sessionizing scheme described [here](https://mode.com/blog/finding-user-sessions-sql), with a slight modification. I will describe the scheme in short here:\n",
    "\n",
    "1. Consider the idle time limit (session timeout) to be say x minutes.\n",
    "2. Now if we find more than x minutes of time interval between the response time of a request and the request time of the subsequent request, that's most probably an indication of the start of a new session. **NOTE** that I am not considering the *idle time* as part of the session,. In other words, the effective end of the session would be the last response he got before the start of another session.\n",
    "3. Now I did some experimentation on how to determine the best value for x.\n",
    "  For this, I followed a simple heuristic that I made up. The way it works is as follows:\n",
    "  - Have a list of possible candidates for x. In my case I took [15, 30, 35, 45, 60], meaning 15 minutes, 30 minutes,     35 minutes, 45 minutes and 60 minutes. Also have a buffer time of y minutes. In my case, I took y = 10.\n",
    "  - For each value in this list, follow the sessionizing scheme of bullet point 2 above. \n",
    "  - Once sessionized, for each IP, after a session ends, measure how many sessions do not restart within y        minutes after the session timeout (x) is reached. Let's say our candidate x value is 30 minutes, and y value is 10 minutes. So in this case, first calculate how many sessions have more than 30 minutes of idle time after they are finished. Let's say this number is m. Now measure, how many sessions have more than (30 + 10) = 40 minutes of idle time after they are finished. Let's say this number is n. The closer n is to m, the higher the number of sessions are that did not restart within 10 minutes after the 30 minutes idle time. So basically we have to measure the n/m ratio. The higher this ratio is, the better the x value will be a candiadte for the session idle time. \n",
    "  \n",
    "  In my case, I found that the 35 minutes idle time gave me the highest ratio of 1, so decided to go with 35 minutes."
   ]
  },
  {
   "cell_type": "markdown",
   "metadata": {},
   "source": [
    "Now define a few utility functions that will be useful. I have converted the timestamp into double values (epoch up to nanosecond precision) so that later on subtraction operations can be done elegantly."
   ]
  },
  {
   "cell_type": "code",
   "execution_count": 8,
   "metadata": {},
   "outputs": [],
   "source": [
    "timestamp_format = \"yyyy-MM-dd'T'HH:mm:ss\"\n",
    "\n",
    "def request_timestamp(time_col):\n",
    "    return (F.to_timestamp(time_col, format=timestamp_format).cast('double') + \\\n",
    "            F.substring(time_col, -8, 7).cast('double'))\n",
    "\n",
    "def return_timestamp(time_col):\n",
    "    return request_timestamp(time_col) + \\\n",
    "            F.when(F.col('request_processing_time') == -1, 0.0).otherwise(F.col('request_processing_time')) + \\\n",
    "            F.when(F.col('backend_processing_time') == -1, 0.0).otherwise(F.col('backend_processing_time')) + \\\n",
    "            F.when(F.col('response_processing_time') == -1, 0.0).otherwise(F.col('response_processing_time'))"
   ]
  },
  {
   "cell_type": "code",
   "execution_count": 9,
   "metadata": {},
   "outputs": [],
   "source": [
    "df_with_time_and_ip = df.select('timestamp',\n",
    "                    request_timestamp('timestamp').alias('request_timestamp'),\n",
    "                    return_timestamp('timestamp').alias('return_timestamp'),\n",
    "                    F.substring_index('client_port', ':', 1).alias('client_ip'),\n",
    "                    F.regexp_extract('request', r'https{0,1}:[^\\s]+', 0).alias('url'))"
   ]
  },
  {
   "cell_type": "code",
   "execution_count": 10,
   "metadata": {},
   "outputs": [
    {
     "name": "stdout",
     "output_type": "stream",
     "text": [
      "+---------------------------+-------------------+--------------------+---------------+---------------------------------------------------------------------------------------------------+\n",
      "|timestamp                  |request_timestamp  |return_timestamp    |client_ip      |url                                                                                                |\n",
      "+---------------------------+-------------------+--------------------+---------------+---------------------------------------------------------------------------------------------------+\n",
      "|2015-07-22T09:00:28.019143Z|1.437570028019143E9|1.437570028045294E9 |123.242.248.130|https://paytm.com:443/shop/authresponse?code=f2405b05-e2ee-4b0d-8f6a-9fed0fcfe2e0&state=null       |\n",
      "|2015-07-22T09:00:27.894580Z|1.43757002789458E9 |1.43757002804797E9  |203.91.211.44  |https://paytm.com:443/shop/wallet/txnhistory?page_size=10&page_number=0&channel=web&version=2      |\n",
      "|2015-07-22T09:00:27.885745Z|1.437570027885745E9|1.437570028050744E9 |1.39.32.179    |https://paytm.com:443/shop/wallet/txnhistory?page_size=10&page_number=0&channel=web&version=2      |\n",
      "|2015-07-22T09:00:28.048369Z|1.437570028048369E9|1.4375700280507429E9|180.179.213.94 |https://paytm.com:443/shop/p/micromax-yu-yureka-moonstone-grey-MOBMICROMAX-YU-DUMM141CD60AF7C_34315|\n",
      "|2015-07-22T09:00:28.036251Z|1.437570028036251E9|1.437570028051382E9 |120.59.192.208 |https://paytm.com:443/papi/v1/expresscart/verify                                                   |\n",
      "+---------------------------+-------------------+--------------------+---------------+---------------------------------------------------------------------------------------------------+\n",
      "only showing top 5 rows\n",
      "\n"
     ]
    }
   ],
   "source": [
    "df_with_time_and_ip.show(5, False)"
   ]
  },
  {
   "cell_type": "code",
   "execution_count": 11,
   "metadata": {},
   "outputs": [],
   "source": [
    "df_with_time_and_ip.createOrReplaceTempView('df_with_time_and_ip')"
   ]
  },
  {
   "cell_type": "markdown",
   "metadata": {},
   "source": [
    "Now here is the function that has all the sessionization logic (discussed above) embedded."
   ]
  },
  {
   "cell_type": "code",
   "execution_count": 17,
   "metadata": {},
   "outputs": [],
   "source": [
    "def get_sessioned_data(idle_time=1800, buffer=600):\n",
    "    idle_time_plus_buffer = idle_time + buffer\n",
    "    \n",
    "    # query for detrmining potential session\n",
    "    df_sessionized = spark.sql(\"\"\"\n",
    "        with last_return_timestamp_info as (\n",
    "            select *,\n",
    "            LAG(return_timestamp, 1) OVER\n",
    "            (PARTITION BY client_ip ORDER BY request_timestamp) AS last_return_timestamp \n",
    "            from df_with_time_and_ip\n",
    "        ),\n",
    "        request_time_diff as \n",
    "        (\n",
    "            select *, request_timestamp - last_return_timestamp as diff_with_previous_request \n",
    "            from last_return_timestamp_info\n",
    "        ),\n",
    "        session_start_info as \n",
    "        (\n",
    "            select *,\n",
    "                case when diff_with_previous_request > {idle_time} or last_return_timestamp is null then 1 \n",
    "                     else 0 end as session_start\n",
    "            from request_time_diff\n",
    "        )\n",
    "        select timestamp, \n",
    "            request_timestamp, \n",
    "            return_timestamp, \n",
    "            client_ip, \n",
    "            url,\n",
    "            last_return_timestamp,\n",
    "            diff_with_previous_request,\n",
    "            SUM(session_start) OVER (PARTITION BY client_ip order by request_timestamp) as user_session_id,\n",
    "            SUM(session_start) OVER (ORDER BY client_ip, request_timestamp) AS global_session_id\n",
    "        from session_start_info\n",
    "        \"\"\".format(idle_time=idle_time))\n",
    "    df_sessionized.createOrReplaceTempView('df_sessionized')\n",
    "    \n",
    "    # once sessions are found, get the start and end times and session lengths\n",
    "    df_session_with_length = spark.sql(\"\"\"\n",
    "        select client_ip, \n",
    "                user_session_id, \n",
    "                min(request_timestamp) as session_start_time,\n",
    "                max(return_timestamp) as session_end_time,\n",
    "                max(return_timestamp) - min(request_timestamp) as session_length\n",
    "        from df_sessionized\n",
    "        group by client_ip, user_session_id\n",
    "        \"\"\")\n",
    "    df_session_with_length.createOrReplaceTempView('df_session_with_length')\n",
    "    \n",
    "    \n",
    "    # the logic below is basically for finding the non-returning session ratio discussed above\n",
    "    # this ratio is used for finding the ideal idle time\n",
    "    df_sessions_with_idle_time = spark.sql(\"\"\"\n",
    "        with last_sessions as (\n",
    "            select client_ip, session_start_time, session_end_time,\n",
    "            LAG(session_end_time, 1) OVER (partition by client_ip order by session_start_time) as last_session_end_time\n",
    "            from df_session_with_length\n",
    "        )\n",
    "        select client_ip, (session_start_time - last_session_end_time) as idle_time\n",
    "        from last_sessions\n",
    "    \"\"\")\n",
    "    \n",
    "    df_sessions_with_idle_time.createOrReplaceTempView('df_sessions_with_idle_time')\n",
    "    \n",
    "    session_count = spark.sql(\"\"\"\n",
    "        select * from df_sessions_with_idle_time where idle_time > {idle_buffer}\n",
    "    \"\"\".format(idle_buffer=idle_time)).count()\n",
    "    \n",
    "    non_returning_session_count = spark.sql(\"\"\"\n",
    "        select * from df_sessions_with_idle_time where idle_time > {idle_buffer}\n",
    "    \"\"\".format(idle_buffer=idle_time_plus_buffer)).count()\n",
    "    \n",
    "    non_returning_session_ratio = non_returning_session_count * 1.0 / session_count\n",
    "    \n",
    "    return df_sessionized, df_session_with_length, non_returning_session_ratio"
   ]
  },
  {
   "cell_type": "code",
   "execution_count": 16,
   "metadata": {
    "scrolled": true
   },
   "outputs": [
    {
     "name": "stdout",
     "output_type": "stream",
     "text": [
      "Idle Time: 15.0 minutes, non-returning user ratio 0.7961959199763476\n",
      "Idle Time: 30.0 minutes, non-returning user ratio 0.9813243900835141\n",
      "Idle Time: 35.0 minutes, non-returning user ratio 1.0\n",
      "Idle Time: 45.0 minutes, non-returning user ratio 0.9998659786906118\n",
      "Idle Time: 60.0 minutes, non-returning user ratio 0.983604260089686\n"
     ]
    }
   ],
   "source": [
    "for idle_time in [15 * 60, 30 * 60, 35 * 60, 45 * 60, 60 * 60]:\n",
    "    df_sessionized, df_session_with_length, non_returning_session_ratio = get_sessioned_data(idle_time)\n",
    "    print('Idle Time: {} minutes, non-returning user ratio {}'.format(idle_time / 60, non_returning_session_ratio))"
   ]
  },
  {
   "cell_type": "markdown",
   "metadata": {},
   "source": [
    "Since from the above experimentation, we see that arond the 35 minute mark, we have a non-returning user ratio of 1,\n",
    "we choose 35 minutes as our idle time."
   ]
  },
  {
   "cell_type": "code",
   "execution_count": 18,
   "metadata": {},
   "outputs": [],
   "source": [
    "df_sessionized, df_session_with_length, non_returning_session_ratio = get_sessioned_data(35 * 60)"
   ]
  },
  {
   "cell_type": "markdown",
   "metadata": {},
   "source": [
    "Although not required for the analysis, I am just visualizing the distribution of the session lengths. Looks like most sessions are of lengths 1 - 4 minutes "
   ]
  },
  {
   "cell_type": "code",
   "execution_count": 20,
   "metadata": {},
   "outputs": [
    {
     "data": {
      "image/png": "[encoded data removed]",
      "text/plain": [
       "<Figure size 432x288 with 1 Axes>"
      ]
     },
     "metadata": {
      "needs_background": "light"
     },
     "output_type": "display_data"
    }
   ],
   "source": [
    "df_session_length_pd = df_session_with_length.select('session_length').toPandas()\n",
    "plt.hist(df_session_length_pd['session_length'])\n",
    "plt.xlabel('Session Length (in seconds)')\n",
    "plt.ylabel('Number of sessions')\n",
    "plt.show()"
   ]
  },
  {
   "cell_type": "markdown",
   "metadata": {},
   "source": [
    "Let's have a look at the sessionized data."
   ]
  },
  {
   "cell_type": "code",
   "execution_count": 26,
   "metadata": {},
   "outputs": [
    {
     "name": "stdout",
     "output_type": "stream",
     "text": [
      "+---------------------------+-------------------+--------------------+------------+---------------------------------------------------------------------------------------------+---------------------+--------------------------+---------------+-----------------+\n",
      "|timestamp                  |request_timestamp  |return_timestamp    |client_ip   |url                                                                                          |last_return_timestamp|diff_with_previous_request|user_session_id|global_session_id|\n",
      "+---------------------------+-------------------+--------------------+------------+---------------------------------------------------------------------------------------------+---------------------+--------------------------+---------------+-----------------+\n",
      "|2015-07-22T10:45:55.881199Z|1.437576355881199E9|1.43757635595924E9  |1.186.101.79|https://paytm.com:443/shop/wallet/balance?channel=web&version=2                              |null                 |null                      |1              |1                |\n",
      "|2015-07-22T10:45:55.885488Z|1.437576355885488E9|1.437576355999906E9 |1.186.101.79|https://paytm.com:443/shop/wallet/txnhistory?page_size=10&page_number=0&channel=web&version=2|1.43757635595924E9   |-0.07375192642211914      |1              |1                |\n",
      "|2015-07-22T10:46:27.839734Z|1.437576387839734E9|1.437576387867013E9 |1.186.101.79|https://paytm.com:443/shop/v1/frequentorders?channel=web&version=2                           |1.437576355999906E9  |31.83982801437378         |1              |1                |\n",
      "|2015-07-22T10:46:56.591943Z|1.437576416591943E9|1.4375764166204882E9|1.186.101.79|https://paytm.com:443/papi/v1/expresscart/verify                                             |1.437576387867013E9  |28.72493004798889         |1              |1                |\n",
      "|2015-07-22T10:47:01.782695Z|1.437576421782695E9|1.4375764218681312E9|1.186.101.79|https://paytm.com:443/api/v1/expresscart/checkout?wallet=1                                   |1.4375764166204882E9 |5.1622068881988525        |1              |1                |\n",
      "+---------------------------+-------------------+--------------------+------------+---------------------------------------------------------------------------------------------+---------------------+--------------------------+---------------+-----------------+\n",
      "only showing top 5 rows\n",
      "\n"
     ]
    }
   ],
   "source": [
    "df_sessionized.show(5, False)"
   ]
  },
  {
   "cell_type": "code",
   "execution_count": 22,
   "metadata": {},
   "outputs": [
    {
     "name": "stdout",
     "output_type": "stream",
     "text": [
      "+------------+---------------+-------------------+--------------------+------------------+\n",
      "|client_ip   |user_session_id|session_start_time |session_end_time    |session_length    |\n",
      "+------------+---------------+-------------------+--------------------+------------------+\n",
      "|1.186.143.37|1              |1.437596076308131E9|1.437596084855858E9 |8.547727108001709 |\n",
      "|1.187.164.29|1              |1.437547411135201E9|1.437547480499369E9 |69.36416792869568 |\n",
      "|1.22.41.76  |1              |1.43759777901417E9 |1.437597841331961E9 |62.31779098510742 |\n",
      "|1.23.208.26 |1              |1.437601301431398E9|1.437602447097681E9 |1145.6662831306458|\n",
      "|1.23.36.184 |1              |1.437556464807342E9|1.4375564792274098E9|14.42006778717041 |\n",
      "+------------+---------------+-------------------+--------------------+------------------+\n",
      "only showing top 5 rows\n",
      "\n"
     ]
    }
   ],
   "source": [
    "df_session_with_length.show(5, False)"
   ]
  },
  {
   "cell_type": "markdown",
   "metadata": {},
   "source": [
    "Write the sessionized data to disk"
   ]
  },
  {
   "cell_type": "code",
   "execution_count": 42,
   "metadata": {},
   "outputs": [],
   "source": [
    "spark.sql(\"\"\"\n",
    "select client_ip,\n",
    "    user_session_id,\n",
    "    from_unixtime(session_start_time, 'yyyy-MM-dd HH:mm:ss:MMMMM') as session_start_time,\n",
    "    from_unixtime(session_start_time, 'yyyy-MM-dd HH:mm:ss:MMMMM') as session_end_time,\n",
    "    session_length\n",
    "from df_session_with_length\n",
    "\"\"\").coalesce(1).write.parquet('sessionized_data')"
   ]
  },
  {
   "cell_type": "markdown",
   "metadata": {},
   "source": [
    "## Question 2: Average session time"
   ]
  },
  {
   "cell_type": "code",
   "execution_count": 44,
   "metadata": {},
   "outputs": [
    {
     "name": "stdout",
     "output_type": "stream",
     "text": [
      "+------------------+\n",
      "|avg_session_length|\n",
      "+------------------+\n",
      "|169.55749184511987|\n",
      "+------------------+\n",
      "\n"
     ]
    }
   ],
   "source": [
    "spark.sql(\"\"\"\n",
    "    select avg(session_length) as avg_session_length from df_session_with_length\n",
    "\"\"\").show(1, False)"
   ]
  },
  {
   "cell_type": "markdown",
   "metadata": {},
   "source": [
    "So the average session time comes up to approximately 169.56 seconds (close to 3 minutes)."
   ]
  },
  {
   "cell_type": "markdown",
   "metadata": {},
   "source": [
    "## Question 3: Unique URL visits per session"
   ]
  },
  {
   "cell_type": "code",
   "execution_count": 52,
   "metadata": {},
   "outputs": [
    {
     "name": "stdout",
     "output_type": "stream",
     "text": [
      "+------------+---------------+---------+\n",
      "|client_ip   |user_session_id|url_count|\n",
      "+------------+---------------+---------+\n",
      "|1.186.143.37|1              |2        |\n",
      "|1.187.164.29|1              |8        |\n",
      "|1.22.41.76  |1              |5        |\n",
      "|1.23.208.26 |1              |6        |\n",
      "|1.23.36.184 |1              |4        |\n",
      "+------------+---------------+---------+\n",
      "only showing top 5 rows\n",
      "\n"
     ]
    }
   ],
   "source": [
    "q3 = spark.sql(\"\"\"\n",
    "        select client_ip, \n",
    "                user_session_id, \n",
    "        count(distinct url) as url_count\n",
    "        from df_sessionized\n",
    "        group by client_ip, user_session_id\n",
    "\"\"\")\n",
    "q3.show(5, False)\n",
    "q3.coalesce(1).write.parquet('unique_urls_per_session')"
   ]
  },
  {
   "cell_type": "markdown",
   "metadata": {},
   "source": [
    "## Question 4: Most engaged users"
   ]
  },
  {
   "cell_type": "markdown",
   "metadata": {},
   "source": [
    "This can be interpreted in a couple of ways:\n",
    " \n",
    "  1. Users who spend the most time on the average (having the highest average across all sessions)\n",
    "  2. Users who spend the globally longest session\n",
    "  \n",
    "Let's do both below and find the top 5."
   ]
  },
  {
   "cell_type": "code",
   "execution_count": 53,
   "metadata": {},
   "outputs": [
    {
     "name": "stdout",
     "output_type": "stream",
     "text": [
      "+--------------+------------------+\n",
      "|client_ip     |avg_session_length|\n",
      "+--------------+------------------+\n",
      "|103.29.159.138|2065.416615009308 |\n",
      "|125.16.218.194|2064.4831998348236|\n",
      "|14.99.226.79  |2062.9150788784027|\n",
      "|117.217.94.18 |2061.7638869285583|\n",
      "|117.193.1.82  |2060.9762609004974|\n",
      "+--------------+------------------+\n",
      "only showing top 5 rows\n",
      "\n"
     ]
    }
   ],
   "source": [
    "# approach 1 (users who spend the most time on the average)\n",
    "q4_1 = spark.sql(\"\"\"\n",
    "        with client_avg_session as (\n",
    "            select client_ip, \n",
    "                    avg(session_length) as avg_session_length\n",
    "            from df_session_with_length\n",
    "            group by client_ip\n",
    "        )\n",
    "        select client_ip, avg_session_length from client_avg_session \n",
    "        order by avg_session_length desc\n",
    "\"\"\")\n",
    "q4_1.show(5, False)\n",
    "q4_1.coalesce(1).write.parquet('most_engaged_maximum_average_session')"
   ]
  },
  {
   "cell_type": "code",
   "execution_count": 54,
   "metadata": {},
   "outputs": [
    {
     "name": "stdout",
     "output_type": "stream",
     "text": [
      "+-------------+------------------+\n",
      "|client_ip    |max_session_length|\n",
      "+-------------+------------------+\n",
      "|220.226.206.7|3248.3628380298615|\n",
      "|52.74.219.71 |2069.168433904648 |\n",
      "|119.81.61.166|2068.852301836014 |\n",
      "|106.186.23.95|2068.7621400356293|\n",
      "|125.19.44.66 |2068.715756893158 |\n",
      "+-------------+------------------+\n",
      "only showing top 5 rows\n",
      "\n"
     ]
    }
   ],
   "source": [
    "# approach (users with max session length, evn though he might have other sessions which are very short)\n",
    "q4_2 = spark.sql(\"\"\"\n",
    "        with client_max_session as (\n",
    "            select client_ip, \n",
    "                    max(session_length) as max_session_length\n",
    "            from df_session_with_length\n",
    "            group by client_ip\n",
    "        )\n",
    "        select client_ip, max_session_length from client_max_session order by max_session_length desc\n",
    "\"\"\")\n",
    "q4_2.show(5, False)\n",
    "q4_2.coalesce(1).write.parquet('most_engaged_maximum_individual_session')"
   ]
  },
  {
   "cell_type": "markdown",
   "metadata": {},
   "source": [
    "## Machine Learning portion"
   ]
  },
  {
   "cell_type": "markdown",
   "metadata": {},
   "source": [
    "## Question 1: Predict the expected load (requests/second) in the next minute"
   ]
  },
  {
   "cell_type": "markdown",
   "metadata": {},
   "source": [
    "We will first do some pre-processing to ready the data. First step would be to aggregate request counts per minute. "
   ]
  },
  {
   "cell_type": "code",
   "execution_count": 55,
   "metadata": {},
   "outputs": [],
   "source": [
    "df_features_raw = spark.sql(\"\"\"\n",
    "        select to_timestamp(timestamp, \"yyyy-MM-dd'T'HH:mm\") as timestamp_upto_minute,\n",
    "                count(1) as request_count\n",
    "        from df_with_time_and_ip\n",
    "        group by 1\n",
    "\"\"\")\n",
    "df_features_raw.createOrReplaceTempView('df_features_raw')"
   ]
  },
  {
   "cell_type": "markdown",
   "metadata": {},
   "source": [
    "Now, since this is a prediction problem, and the time spans that don't have any logs are basically 0 load, we need to generate records for those left over time spans (minutes) with request count 0. For this purpose, we generate all minutes between the min minute and max minute available in the dataset and fill in all blank minutes with load 0. "
   ]
  },
  {
   "cell_type": "code",
   "execution_count": 56,
   "metadata": {},
   "outputs": [],
   "source": [
    "min_max_time = df_features_raw.agg(F.min(F.to_timestamp('timestamp_upto_minute')), \n",
    "                                  F.max(F.to_timestamp('timestamp_upto_minute'))).collect()\n",
    "\n",
    "times = []\n",
    "time = min_max_time[0][0]\n",
    "while time <= min_max_time[0][1]:\n",
    "    times.append(time)\n",
    "    time = time + timedelta(minutes=1)  \n",
    "    \n",
    "all_minutes = spark.createDataFrame(times, TimestampType())\n",
    "all_minutes.createOrReplaceTempView('all_minutes')\n",
    "\n",
    "df_features_raw = spark.sql(\"\"\"\n",
    "    select to_timestamp(am.value) as timestamp_upto_minute,  \n",
    "            coalesce(fr.request_count, 0) as request_count\n",
    "    from all_minutes am\n",
    "        left join df_features_raw fr\n",
    "        on fr.timestamp_upto_minute = to_timestamp(am.value)\n",
    "    order by 1\n",
    "\"\"\")"
   ]
  },
  {
   "cell_type": "markdown",
   "metadata": {},
   "source": [
    "### Approaches\n",
    "\n",
    "This problem hints time series. I initially planned to use some time series library in spark (like Flint), however unfortunately I was unable to make it work with python3 in my local environment. Instead I tried the following 4 approaches:\n",
    "   \n",
    "1. Use a moving weighted average (mwa) based scheme for making the predictions. I used a window size of 6 with perdefined weights [.02, .04, .04, .2, .2, 0.5] from the least recent to the most recent.\n",
    "2. Use an exponential moving average (ema) based scheme for making the predictions. Again, I used a window size of 5.\n",
    "3. Use linear regression over the most recent 5 periods and make the prediction.\n",
    "4. Finally I used an **LSTM** based time-series approach. Didn't have time to research enough to do this in spark, so I converted to pandas dataframe and used **Keras** (with Tensorflow backend) to do this.\n",
    "\n",
    "\n",
    "**NOTE**: The predictions here are happening per minute, so for the request per second, we just need to divide our prediction by 60."
   ]
  },
  {
   "cell_type": "markdown",
   "metadata": {},
   "source": [
    "### Apprach 1: Predict using weighted average"
   ]
  },
  {
   "cell_type": "code",
   "execution_count": 58,
   "metadata": {},
   "outputs": [],
   "source": [
    "def weighted_average(c, window, offsets, weights):\n",
    "    assert len(weights) == len(offsets)\n",
    "\n",
    "    def value(i):\n",
    "        if i < 0: return F.lag(c, -i).over(window)\n",
    "        if i > 0: return F.lead(c, i).over(window)\n",
    "        return c\n",
    "\n",
    "    values = [F.coalesce(value(i) * w, F.lit(0)) for i, w in zip(offsets, weights)]\n",
    "\n",
    "    # or sum(values, lit(0))\n",
    "    return reduce(add, values, F.lit(0))\n",
    "\n",
    "def exponentially_moving_average(row_number, column_partition_values, window_size=6):\n",
    "    smooth_factor = 2.0 / (window_size + 1)\n",
    "\n",
    "    numerator = 0.0\n",
    "    nominator = 0.0\n",
    "\n",
    "    for i in range(row_number): \n",
    "        current_factor = math.pow(1 - smooth_factor, len(column_partition_values) - i - 1)         \n",
    "        numerator = numerator + current_factor * column_partition_values[i]\n",
    "        nominator = nominator + current_factor\n",
    "\n",
    "    return numerator/nominator\n",
    "\n",
    "exponentially_moving_average_udf = F.udf(exponentially_moving_average, FloatType())"
   ]
  },
  {
   "cell_type": "code",
   "execution_count": 59,
   "metadata": {},
   "outputs": [],
   "source": [
    "window_request = Window.orderBy('timestamp_upto_minute')\n",
    "\n",
    "offsets, delays =  [-6, -5, -4, -3, -2, -1], [0.02, .04, .04, .2, .2, 0.5]\n",
    "\n",
    "df_prediction_wma = df_features_raw.withColumn('next_minute_predicted_load', weighted_average(\n",
    "    F.col('request_count'), window_request, offsets, delays\n",
    "))\n",
    "\n",
    "df_prediction_wma_pd = df_prediction_wma.select('next_minute_predicted_load').toPandas()"
   ]
  },
  {
   "cell_type": "code",
   "execution_count": 60,
   "metadata": {},
   "outputs": [],
   "source": [
    "actual_request_count = df_features_raw.select('request_count').toPandas()"
   ]
  },
  {
   "cell_type": "markdown",
   "metadata": {},
   "source": [
    "Let's see the R2 score and MAE for this apprach."
   ]
  },
  {
   "cell_type": "code",
   "execution_count": 61,
   "metadata": {},
   "outputs": [
    {
     "name": "stdout",
     "output_type": "stream",
     "text": [
      "R2 Score: 0.51 MAE\n",
      "MAE: 797.07 MAE\n"
     ]
    }
   ],
   "source": [
    "r2_score_wma = r2_score(actual_request_count.values, df_prediction_wma_pd.values)\n",
    "print('R2 Score: %.2f MAE' % (r2_score_wma))\n",
    "test_score_wma = mean_absolute_error(actual_request_count.values, \n",
    "                                     df_prediction_wma_pd.values)\n",
    "print('MAE: %.2f MAE' % (test_score_wma))"
   ]
  },
  {
   "cell_type": "markdown",
   "metadata": {},
   "source": [
    "### Apprach 2: Predict using exponentially moving average"
   ]
  },
  {
   "cell_type": "code",
   "execution_count": 62,
   "metadata": {},
   "outputs": [],
   "source": [
    "df_prediction_ema = df_features_raw.withColumn('row_nr', F.row_number().over(window_request)) \\\n",
    "                        .withColumn('next_minute_predicted_load', \n",
    "                                    exponentially_moving_average_udf(F.col('row_nr'), \n",
    "                                                                     F.collect_list('request_count') \\\n",
    "                                                                      .over(window_request)))\n",
    "\n",
    "df_prediction_ema_pd = df_prediction_ema.select('next_minute_predicted_load').toPandas()"
   ]
  },
  {
   "cell_type": "markdown",
   "metadata": {},
   "source": [
    "Let's see the R2 score and MAE for this apprach."
   ]
  },
  {
   "cell_type": "code",
   "execution_count": 63,
   "metadata": {},
   "outputs": [
    {
     "name": "stdout",
     "output_type": "stream",
     "text": [
      "R2 Score: 0.68 MAE\n",
      "MAE: 759.18 MAE\n"
     ]
    }
   ],
   "source": [
    "r2_score_ema = r2_score(actual_request_count.values, df_prediction_ema_pd.values)\n",
    "print('R2 Score: %.2f MAE' % (r2_score_ema))\n",
    "test_score_ema = mean_absolute_error(actual_request_count.values, \n",
    "                                     df_prediction_ema_pd.values)\n",
    "print('MAE: %.2f MAE' % (test_score_ema))"
   ]
  },
  {
   "cell_type": "markdown",
   "metadata": {},
   "source": [
    "**NOTE**: In the above 2 approches, there was no attempt of splitting into train-test since they are just a moving right away prediction."
   ]
  },
  {
   "cell_type": "markdown",
   "metadata": {},
   "source": [
    "### Approach 3: Linear Regression in Spark"
   ]
  },
  {
   "cell_type": "markdown",
   "metadata": {},
   "source": [
    "We will first define some utility functions for performing linear regression, with some parameters that can be tuned."
   ]
  },
  {
   "cell_type": "code",
   "execution_count": 64,
   "metadata": {},
   "outputs": [],
   "source": [
    "def perform_linear_regression(data, labelCol, featuresCol='features', maxIter=100, \n",
    "                      regParam=0.3, elasticNetParam=0.8):\n",
    "    lr = LinearRegression(featuresCol=featuresCol, labelCol=labelCol, maxIter=maxIter, \n",
    "                          regParam=regParam, elasticNetParam=elasticNetParam)\n",
    "    \n",
    "    lr_model = lr.fit(data)\n",
    "    print(\"Coefficients: \" + str(lr_model.coefficients))\n",
    "    print(\"Intercept: \" + str(lr_model.intercept))\n",
    "    return lr_model\n",
    "    \n",
    "def get_df_for_regression(data, inputCols, labelCol, outputCol = 'features'):\n",
    "    vectorAssembler = VectorAssembler(inputCols = inputCols, \n",
    "                                  outputCol = outputCol)\n",
    "\n",
    "    vdf_features = vectorAssembler.transform(data.dropna())\n",
    "    vdf_features = vdf_features.select([outputCol, labelCol])\n",
    "    return vdf_features\n",
    "\n",
    "# encoder = OneHotEncoderEstimator(inputCols=[ 'month', 'day', 'week_day', 'hour', 'minute'],\n",
    "#                                  outputCols=['month_vec', 'day_vec', 'week_day_vec', 'hour_vec', 'minute_vec'])\n",
    "# model = encoder.fit(df_features.dropna())\n",
    "# encoded = model.transform(df_features.dropna())"
   ]
  },
  {
   "cell_type": "markdown",
   "metadata": {},
   "source": [
    "Next we will generate features - for each request count, we will take the previous 6 request counts (from the previous 6 minutes). I did consider making use of day, hour, minute etc as features for regression, but later decided not to include those since considering the data as time series will to some extent intrinsically include those information. For example, if there is a greater load during the evening time, then the time series information (in this case the most recent 6 minutes load) will capture those.\n",
    "\n",
    "**NOTE**: I couldn't find any elegant way of column-wise feature **normalization** in Spark, so I haven't normalized the values, which may not be too much of a concern since we have homogeneous columns (all request counts). One possible way of normalizing could have been to iterate through the columns and normalize each of those individually, but I decided not to do that ince that's not elegant."
   ]
  },
  {
   "cell_type": "code",
   "execution_count": 65,
   "metadata": {},
   "outputs": [],
   "source": [
    "window_size = 6\n",
    "reg_input_columns = ['prev_request_count_{}'.format(i) for i in range(1, window_size + 1)]\n",
    "\n",
    "def get_features_reg(df_features_raw, window_size=6):\n",
    "    df_features_reg = df_features_raw.select(*[F.lag('request_count', i) \\\n",
    "                                                .over(window_request).alias('prev_request_count_{}'.format(i)) \n",
    "                                               for i in range(1, window_size + 1)], 'request_count')\n",
    "    return df_features_reg"
   ]
  },
  {
   "cell_type": "code",
   "execution_count": 1069,
   "metadata": {},
   "outputs": [],
   "source": [
    "vdf_features_reg = get_df_for_regression(df_features_reg, reg_input_columns, 'request_count')    "
   ]
  },
  {
   "cell_type": "markdown",
   "metadata": {},
   "source": [
    "Although I know ideally, data should be split into **training, validation and test** - 3 segments, for keeping things simple for the sake of this project, I am only splitting it into a **train and test** set."
   ]
  },
  {
   "cell_type": "code",
   "execution_count": 66,
   "metadata": {},
   "outputs": [],
   "source": [
    "def split_train_test(df, train_ratio=0.7):\n",
    "    df = df.withColumn(\"rank\", F.percent_rank().over(window_request))\n",
    "    train_df = df.where(\"rank <= {}\".format(train_ratio)).drop(\"rank\")\n",
    "    test_df = df.where(\"rank > {}\".format(train_ratio)).drop(\"rank\")\n",
    "    return train_df, test_df"
   ]
  },
  {
   "cell_type": "code",
   "execution_count": 67,
   "metadata": {},
   "outputs": [],
   "source": [
    "train_features_raw, test_features_raw = split_train_test(df_features_raw)\n",
    "train_features_reg = get_features_reg(train_features_raw)\n",
    "test_features_reg = get_features_reg(test_features_raw)\n",
    "\n",
    "train_df_reg = get_df_for_regression(train_features_reg, reg_input_columns, 'request_count') \n",
    "test_df_reg = get_df_for_regression(test_features_reg, reg_input_columns, 'request_count') "
   ]
  },
  {
   "cell_type": "code",
   "execution_count": 1070,
   "metadata": {},
   "outputs": [],
   "source": [
    "# splits = vdf_features_reg.randomSplit([0.7, 0.3], seed=1)\n",
    "# train_df_reg = splits[0]\n",
    "# test_df_reg = splits[1]"
   ]
  },
  {
   "cell_type": "markdown",
   "metadata": {},
   "source": [
    "Create the model and perform linear regression."
   ]
  },
  {
   "cell_type": "code",
   "execution_count": 70,
   "metadata": {},
   "outputs": [
    {
     "name": "stdout",
     "output_type": "stream",
     "text": [
      "Coefficients: [1.1243126149002196,-0.2852093219250971,0.1370005952140445,-0.3684106410666538,0.1572515647430933,0.07650830692969574]\n",
      "Intercept: 128.59642909454854\n"
     ]
    }
   ],
   "source": [
    "lr_model = perform_linear_regression(train_df_reg, 'request_count')"
   ]
  },
  {
   "cell_type": "code",
   "execution_count": 71,
   "metadata": {},
   "outputs": [
    {
     "name": "stdout",
     "output_type": "stream",
     "text": [
      "MAE: 508.883529\n",
      "r2: 0.782192\n"
     ]
    }
   ],
   "source": [
    "trainingSummary = lr_model.summary\n",
    "print(\"MAE: %f\" % trainingSummary.meanAbsoluteError)\n",
    "print(\"r2: %f\" % trainingSummary.r2)"
   ]
  },
  {
   "cell_type": "code",
   "execution_count": 73,
   "metadata": {},
   "outputs": [
    {
     "name": "stdout",
     "output_type": "stream",
     "text": [
      "+-------+------------------+\n",
      "|summary|     request_count|\n",
      "+-------+------------------+\n",
      "|  count|               772|\n",
      "|   mean| 812.3329015544041|\n",
      "| stddev|3866.3291966833617|\n",
      "|    min|                 0|\n",
      "|    max|             24642|\n",
      "+-------+------------------+\n",
      "\n"
     ]
    }
   ],
   "source": [
    "train_df_reg.describe().show()"
   ]
  },
  {
   "cell_type": "code",
   "execution_count": 74,
   "metadata": {},
   "outputs": [
    {
     "name": "stdout",
     "output_type": "stream",
     "text": [
      "R Squared (R2) on test data = 0.791538\n"
     ]
    }
   ],
   "source": [
    "lr_predictions = lr_model.transform(test_df_reg)\n",
    "# lr_predictions.select(\"prediction\", \"request_count\", \"features\").show(5, False)\n",
    "lr_evaluator = RegressionEvaluator(predictionCol=\"prediction\", \\\n",
    "                 labelCol=\"request_count\",metricName=\"r2\")\n",
    "print(\"R Squared (R2) on test data = %g\" % lr_evaluator.evaluate(lr_predictions))"
   ]
  },
  {
   "cell_type": "code",
   "execution_count": 75,
   "metadata": {},
   "outputs": [],
   "source": [
    "df_predictions_reg_train = lr_model.transform(train_df_reg)\n",
    "df_predictions_reg = lr_model.transform(test_df_reg)\n",
    "df_prediction_reg_pd = df_predictions_reg.select('prediction').toPandas()\n",
    "df_predictions_reg_train_pd = df_predictions_reg_train.select('prediction').toPandas()"
   ]
  },
  {
   "cell_type": "code",
   "execution_count": 76,
   "metadata": {},
   "outputs": [
    {
     "name": "stdout",
     "output_type": "stream",
     "text": [
      "MAE: 869.26\n"
     ]
    }
   ],
   "source": [
    "test_score_reg = mean_absolute_error(test_df_reg.select('request_count').toPandas().values, \n",
    "                                     df_prediction_reg_pd.values)\n",
    "print('MAE: %.2f' % (test_score_reg))"
   ]
  },
  {
   "cell_type": "markdown",
   "metadata": {},
   "source": [
    "One thing I notice is that linear regression resulting in some negative predictions. However, this is kind of inevitable with linear regression, and we can try to do some postprocessing (like 0-up the negative ones or add some predefined value to get rid of the negatives)."
   ]
  },
  {
   "cell_type": "code",
   "execution_count": 77,
   "metadata": {},
   "outputs": [
    {
     "data": {
      "text/plain": [
       "11"
      ]
     },
     "execution_count": 77,
     "metadata": {},
     "output_type": "execute_result"
    }
   ],
   "source": [
    "lr_predictions.where('prediction < 0').count()"
   ]
  },
  {
   "cell_type": "code",
   "execution_count": 106,
   "metadata": {},
   "outputs": [
    {
     "name": "stdout",
     "output_type": "stream",
     "text": [
      "+--------------------+-------------+-------------------+\n",
      "|            features|request_count|         prediction|\n",
      "+--------------------+-------------+-------------------+\n",
      "|[0.0,19875.0,2100...|            0| -5974.189276050871|\n",
      "|[0.0,0.0,0.0,1987...|            0|-2208.4650517780437|\n",
      "|[1980.0,21052.0,1...|            0| -4660.968292923023|\n",
      "|[0.0,0.0,1980.0,2...|            0|-2558.7592019245703|\n",
      "|[0.0,16914.0,2645...|            0| -5758.403926798203|\n",
      "|[0.0,0.0,16914.0,...|            0|-1901.1274543451948|\n",
      "|[0.0,0.0,0.0,1691...|            0|  -98.8288500277956|\n",
      "|[0.0,8472.0,17216...|            0|  -1784.09069462608|\n",
      "|[0.0,0.0,8472.0,1...|            0| -408.4926913432241|\n",
      "|[0.0,8347.0,16340...|            0|  -3126.91013127732|\n",
      "|[0.0,0.0,8347.0,1...|            0| -661.3025374850515|\n",
      "+--------------------+-------------+-------------------+\n",
      "\n"
     ]
    }
   ],
   "source": [
    "lr_predictions.where('prediction < 0').show()"
   ]
  },
  {
   "cell_type": "markdown",
   "metadata": {},
   "source": [
    "Just for the sake of curiosity, I also tried Ridge regression (L2 regression) in scikit learn with normalization just to see whether that improves the regression performance we had above. Looks like it doesn't"
   ]
  },
  {
   "cell_type": "code",
   "execution_count": 149,
   "metadata": {},
   "outputs": [],
   "source": [
    "train_features_reg_pd = train_features_reg.toPandas().dropna()\n",
    "test_features_reg_pd = test_features_reg.toPandas().dropna()"
   ]
  },
  {
   "cell_type": "code",
   "execution_count": 150,
   "metadata": {},
   "outputs": [
    {
     "name": "stdout",
     "output_type": "stream",
     "text": [
      "MAE score on test data: 921.1202329622351\n",
      "R2 score on test data: 0.7699009584894448\n"
     ]
    }
   ],
   "source": [
    "lr_sk_model = Ridge(alpha=1.0)\n",
    "xscaler = MinMaxScaler(feature_range=(0, 1))\n",
    "yscaler = MinMaxScaler(feature_range=(0, 1))\n",
    "\n",
    "train_x = train_features_reg_pd.values[:, :6]\n",
    "train_y = train_features_reg_pd.values[:, 6].reshape(-1,1)\n",
    "test_x = test_features_reg_pd.values[:, :6]\n",
    "test_y = test_features_reg_pd.values[:, 6].reshape(-1,1)\n",
    "\n",
    "train_x = xscaler.fit_transform(train_x)\n",
    "test_x = xscaler.fit_transform(test_x)\n",
    "train_y = yscaler.fit_transform(train_y)\n",
    "test_y = yscaler.fit_transform(test_y)\n",
    "\n",
    "lr_sk_model.fit(train_x, train_y)\n",
    "predict_y = lr_sk_model.predict(test_x)\n",
    "\n",
    "test_y = yscaler.inverse_transform(test_y)\n",
    "predict_y = yscaler.inverse_transform(predict_y)\n",
    "\n",
    "print('MAE score on test data: {}'.format(mean_absolute_error(test_y, predict_y)))\n",
    "print('R2 score on test data: {}'.format(r2_score(test_y, predict_y)))"
   ]
  },
  {
   "cell_type": "markdown",
   "metadata": {},
   "source": [
    "### Approach 4: Predict with LSTM"
   ]
  },
  {
   "cell_type": "markdown",
   "metadata": {},
   "source": [
    "For this, I first convert the spark dataframe into a pandas one and the use **Keras** for the LSTM prediction."
   ]
  },
  {
   "cell_type": "code",
   "execution_count": 78,
   "metadata": {},
   "outputs": [],
   "source": [
    "df_features_lstm_pd = df_features_raw.select('request_count').toPandas()\n",
    "df_features_lstm_pd['request_count'] = df_features_lstm_pd['request_count'].astype('double')"
   ]
  },
  {
   "cell_type": "code",
   "execution_count": 79,
   "metadata": {},
   "outputs": [],
   "source": [
    "# resampled = df_features_pd.set_index('timestamp_upto_minute').resample('Min').first()\n",
    "# fill = resampled.fillna(0.0).rolling(3, min_periods=1).mean()\n",
    "# resampled = resampled.fillna(fill)\n",
    "# resampled= resampled.fillna(0)"
   ]
  },
  {
   "cell_type": "markdown",
   "metadata": {},
   "source": [
    "We will first define some utility functions for creating the train and test datasets, and for predicting with LSTM. Again, for simplicity I am splitting just into train and test segments, as opposed to train, validation and test.\n",
    "\n",
    "**NOTE**: After a bit of experimentation (even though I haven't shown that here), I noticed that even though the features here are still homogeneous (just like the regression case), LSTM seems to be highly sensitive to not normalizing. So here I decided to normalize the fetures and also the labels (actual request counts) using scikit learn's min-max normalizer. In the end, when the predictions are made, I do an inverse transformation of the predicted values to get the unnormalized predictions.\n",
    "\n",
    "For my LSTM network, I am using:\n",
    "\n",
    "- One LSTM layer with 32 units.\n",
    "\n",
    "I tried a limited number of tunings and regularizing it using some dropout, recurrent dropout, and bidirectional LSTM layers, but performance didn't improve that much. I believe further tuning is needed."
   ]
  },
  {
   "cell_type": "code",
   "execution_count": 112,
   "metadata": {},
   "outputs": [],
   "source": [
    "def create_dataset(dataset, look_back=6):\n",
    "    dataX, dataY = [], []\n",
    "    for i in range(len(dataset)-look_back-1):\n",
    "        a = dataset[i:(i+look_back), 0]\n",
    "        dataX.append(a)\n",
    "        dataY.append(dataset[i + look_back, 0])\n",
    "    return np.array(dataX), np.array(dataY)"
   ]
  },
  {
   "cell_type": "code",
   "execution_count": 97,
   "metadata": {},
   "outputs": [],
   "source": [
    "scaler = MinMaxScaler(feature_range=(0, 1))\n",
    "def predict_with_lstm(data, look_back=6, batch_size=1, epochs=20, normalize=True):\n",
    "    def pre_process(data, nomrmalize):       \n",
    "        train_size = int(len(data) * 0.7)\n",
    "        test_size = len(data) - train_size\n",
    "        train, test = data[0:train_size], data[train_size:len(data)]\n",
    "        train, test = train.values, test.values\n",
    "\n",
    "        if normalize:\n",
    "            train = scaler.fit_transform(train)\n",
    "            test = scaler.transform(test)\n",
    "        return train, test\n",
    "    \n",
    "    def fit_model(trainX, trainY, look_back, batch_size, epochs):\n",
    "        model = Sequential()\n",
    "        model.add(layers.LSTM(32, \n",
    "                              input_shape=(None, look_back), \n",
    "#                               dropout=0.1,\n",
    "#                               recurrent_dropout=0.3,\n",
    "#                               return_sequences=True\n",
    "                             ))\n",
    "#         model.add(layers.Bidirectional(layers.LSTM(32, dropout=0.1, recurrent_dropout=0.3)))\n",
    "        model.add(layers.Dense(1))\n",
    "        model.compile(loss='mean_absolute_error', optimizer='adam')\n",
    "        model.fit(trainX, trainY, epochs=epochs, batch_size=batch_size)\n",
    "        return model\n",
    "        \n",
    "    train, test = pre_process(data, normalize)   \n",
    "    trainX, trainY = create_dataset(train, look_back)\n",
    "    testX, testY = create_dataset(test, look_back)\n",
    "    \n",
    "    # reshape input to be [samples, time steps, features]\n",
    "    trainX = np.reshape(trainX, (trainX.shape[0], 1, trainX.shape[1]))\n",
    "    testX = np.reshape(testX, (testX.shape[0], 1, testX.shape[1]))\n",
    "        \n",
    "    # create and fit the LSTM network\n",
    "    model = fit_model(trainX, trainY, look_back, batch_size, epochs)\n",
    "    \n",
    "    trainPredict = model.predict(trainX)\n",
    "    testPredict = model.predict(testX)\n",
    "    \n",
    "    if normalize:\n",
    "        trainPredict = scaler.inverse_transform(trainPredict)\n",
    "        trainY = scaler.inverse_transform([trainY])[0]\n",
    "        testPredict = scaler.inverse_transform(testPredict)\n",
    "        testY = scaler.inverse_transform([testY])[0]\n",
    "    \n",
    "    trainScore = mean_absolute_error(trainY, trainPredict[:,0])\n",
    "    print('Train Score: %.2f MAE' % (trainScore))\n",
    "    testScore = mean_absolute_error(testY, testPredict[:,0])\n",
    "    print('Test Score: %.2f MAE' % (testScore))\n",
    "    \n",
    "    return trainY, testY, trainPredict, testPredict, model\n",
    "\n",
    "def plot_original(data):\n",
    "    figure = plt.figure(figsize=(15, 6))\n",
    "    plt.plot(data)\n",
    "    plt.xlabel('Timesteps (minutes)')\n",
    "    plt.ylabel('Load (Requests per minute)')\n",
    "    plt.title('Original Request Load Trend')\n",
    "    plt.show()\n",
    "    \n",
    "def plot_predictions_lstm(data, trainPredict, testPredict, look_back=6, normalized=False):\n",
    "    trainPredictPlot = np.empty_like(data)\n",
    "    trainPredictPlot[:, :] = np.nan\n",
    "    trainPredictPlot[look_back:len(trainPredict)+look_back, :] = trainPredict\n",
    "    # shift test predictions for plotting\n",
    "    testPredictPlot = np.empty_like(data)\n",
    "    testPredictPlot[:, :] = np.nan\n",
    "    testPredictPlot[len(trainPredict)+(look_back*2)+1:len(resampled)-1, :] = testPredict\n",
    "    # plot baseline and predictions\n",
    "    figure = plt.figure(figsize=(15, 6))\n",
    "    plt.plot(trainPredictPlot, label='Training')\n",
    "    plt.plot(testPredictPlot, label='Testing')\n",
    "    plt.xlabel('Timesteps (minutes)')\n",
    "    plt.ylabel('Load (Requests per minute)')\n",
    "    plt.title('Predicted Request Load Trend (LSTM)')\n",
    "    plt.legend()\n",
    "    plt.show()\n",
    "    \n",
    "def plot_linear_reg_pred():\n",
    "    figure = plt.figure(figsize=(15, 6))\n",
    "    plt.plot(pd.concat([df_predictions_reg_train_pd, df_prediction_reg_pd]).reset_index(drop=True))\n",
    "    plt.xlabel('Timesteps (minutes)')\n",
    "    plt.ylabel('Load (Requests per minute)')\n",
    "    plt.title('Predicted Request Load Trend (Linear Regression)')\n",
    "    plt.legend()\n",
    "    plt.show()\n",
    "    \n",
    "def plot_wma_pred():\n",
    "    figure = plt.figure(figsize=(15, 6))\n",
    "    plt.plot(df_prediction_wma_pd)\n",
    "    plt.xlabel('Timesteps (minutes)')\n",
    "    plt.ylabel('Load (Requests per minute)')\n",
    "    plt.title('Predicted Request Load Trend (Weighted Moving Average)')\n",
    "    plt.legend()\n",
    "    plt.show()\n",
    "    \n",
    "def plot_ema_pred():\n",
    "    figure = plt.figure(figsize=(15, 6))\n",
    "    plt.plot(df_prediction_ema_pd)\n",
    "    plt.xlabel('Timesteps (minutes)')\n",
    "    plt.ylabel('Load (Requests per minute)')\n",
    "    plt.title('Predicted Request Load Trend')\n",
    "    plt.legend()\n",
    "    plt.show()"
   ]
  },
  {
   "cell_type": "code",
   "execution_count": 105,
   "metadata": {},
   "outputs": [
    {
     "name": "stdout",
     "output_type": "stream",
     "text": [
      "Epoch 1/20\n",
      "770/770 [==============================] - 9s 12ms/step - loss: 0.0299\n",
      "Epoch 2/20\n",
      "770/770 [==============================] - 3s 3ms/step - loss: 0.0214\n",
      "Epoch 3/20\n",
      "770/770 [==============================] - 3s 3ms/step - loss: 0.0181\n",
      "Epoch 4/20\n",
      "770/770 [==============================] - 3s 3ms/step - loss: 0.0166\n",
      "Epoch 5/20\n",
      "770/770 [==============================] - 3s 3ms/step - loss: 0.0158\n",
      "Epoch 6/20\n",
      "770/770 [==============================] - 3s 3ms/step - loss: 0.0150\n",
      "Epoch 7/20\n",
      "770/770 [==============================] - 3s 3ms/step - loss: 0.0151\n",
      "Epoch 8/20\n",
      "770/770 [==============================] - 3s 3ms/step - loss: 0.0148\n",
      "Epoch 9/20\n",
      "770/770 [==============================] - 3s 3ms/step - loss: 0.0145\n",
      "Epoch 10/20\n",
      "770/770 [==============================] - 3s 3ms/step - loss: 0.0143\n",
      "Epoch 11/20\n",
      "770/770 [==============================] - 3s 3ms/step - loss: 0.0144\n",
      "Epoch 12/20\n",
      "770/770 [==============================] - 3s 3ms/step - loss: 0.0143\n",
      "Epoch 13/20\n",
      "770/770 [==============================] - 3s 3ms/step - loss: 0.0142\n",
      "Epoch 14/20\n",
      "770/770 [==============================] - 3s 3ms/step - loss: 0.0140\n",
      "Epoch 15/20\n",
      "770/770 [==============================] - 3s 3ms/step - loss: 0.0140\n",
      "Epoch 16/20\n",
      "770/770 [==============================] - 3s 3ms/step - loss: 0.0143\n",
      "Epoch 17/20\n",
      "770/770 [==============================] - 3s 3ms/step - loss: 0.0140\n",
      "Epoch 18/20\n",
      "770/770 [==============================] - 3s 3ms/step - loss: 0.0143\n",
      "Epoch 19/20\n",
      "770/770 [==============================] - 3s 3ms/step - loss: 0.0139\n",
      "Epoch 20/20\n",
      "770/770 [==============================] - 3s 3ms/step - loss: 0.0139\n",
      "Train Score: 362.74 MAE\n",
      "Test Score: 660.36 MAE\n",
      "\n"
     ]
    }
   ],
   "source": [
    "train_y_lstm, test_y_lstm, train_predict_lstm, test_predict_lstm, model_lstm = \\\n",
    "        predict_with_lstm(df_features_lstm_pd, look_back=6, batch_size=1, epochs=20, normalize=True)"
   ]
  },
  {
   "cell_type": "code",
   "execution_count": 101,
   "metadata": {},
   "outputs": [
    {
     "name": "stdout",
     "output_type": "stream",
     "text": [
      "MAE score on test data: 660.36\n"
     ]
    }
   ],
   "source": [
    "print('MAE score on test data: {}'.format(mean_absolute_error(test_y_lstm, test_predict_lstm)))"
   ]
  },
  {
   "cell_type": "code",
   "execution_count": 99,
   "metadata": {},
   "outputs": [
    {
     "name": "stdout",
     "output_type": "stream",
     "text": [
      "R2 score on test data: 0.8174551478766671\n"
     ]
    }
   ],
   "source": [
    "print('R2 score on test data: {}'.format(r2_score(test_y_lstm, test_predict_lstm)))"
   ]
  },
  {
   "cell_type": "markdown",
   "metadata": {},
   "source": [
    "We notice that the LSTM predictions have some negatives as well, however their number is low and the negative values are not as high as the one we got in Linear Regression."
   ]
  },
  {
   "cell_type": "code",
   "execution_count": 104,
   "metadata": {},
   "outputs": [
    {
     "data": {
      "text/plain": [
       "array([  -0.86198604,  -59.41109   , -267.79065   ,   -6.256512  ],\n",
       "      dtype=float32)"
      ]
     },
     "execution_count": 104,
     "metadata": {},
     "output_type": "execute_result"
    }
   ],
   "source": [
    "test_predict_lstm[test_predict_lstm < 0]"
   ]
  },
  {
   "cell_type": "markdown",
   "metadata": {},
   "source": [
    "## Visualizations of Predictions"
   ]
  },
  {
   "cell_type": "markdown",
   "metadata": {},
   "source": [
    "Let's try to visualize the predictions of each of the schemes we have tried."
   ]
  },
  {
   "cell_type": "code",
   "execution_count": 1190,
   "metadata": {},
   "outputs": [
    {
     "data": {
      "image/png": "[encoded data removed]",
      "text/plain": [
       "<Figure size 1080x432 with 1 Axes>"
      ]
     },
     "metadata": {
      "needs_background": "light"
     },
     "output_type": "display_data"
    },
    {
     "data": {
      "image/png": "[encoded data removed]",
      "text/plain": [
       "<Figure size 1080x432 with 1 Axes>"
      ]
     },
     "metadata": {
      "needs_background": "light"
     },
     "output_type": "display_data"
    },
    {
     "name": "stderr",
     "output_type": "stream",
     "text": [
      "WARNING:matplotlib.legend:No handles with labels found to put in legend.\n"
     ]
    },
    {
     "data": {
      "image/png": "[encoded data removed]",
      "text/plain": [
       "<Figure size 1080x432 with 1 Axes>"
      ]
     },
     "metadata": {
      "needs_background": "light"
     },
     "output_type": "display_data"
    },
    {
     "name": "stderr",
     "output_type": "stream",
     "text": [
      "WARNING:matplotlib.legend:No handles with labels found to put in legend.\n"
     ]
    },
    {
     "data": {
      "image/png": "[encoded data removed]",
      "text/plain": [
       "<Figure size 1080x432 with 1 Axes>"
      ]
     },
     "metadata": {
      "needs_background": "light"
     },
     "output_type": "display_data"
    },
    {
     "name": "stderr",
     "output_type": "stream",
     "text": [
      "WARNING:matplotlib.legend:No handles with labels found to put in legend.\n"
     ]
    },
    {
     "data": {
      "image/png": "[encoded data removed]",
      "text/plain": [
       "<Figure size 1080x432 with 1 Axes>"
      ]
     },
     "metadata": {
      "needs_background": "light"
     },
     "output_type": "display_data"
    }
   ],
   "source": [
    "plot_original(df_features_lstm_pd.values)\n",
    "plot_predictions_lstm(df_features_lstm_pd.values, train_predict_lstm, test_predict_lstm)\n",
    "plot_wma_pred()\n",
    "plot_ema_pred()\n",
    "plot_linear_reg_pred()"
   ]
  },
  {
   "cell_type": "markdown",
   "metadata": {},
   "source": [
    "From the above visualization, it looks like LSTM predictions follows the original trend the most closely, although there are small spikes of negative predictions. The weighted average and exponential averages also does reasoanbly well, but they are a little coarse at places. The linear regression results seem to be the worst here with big negative spikes.\n",
    "\n",
    "Comparing R2 score and MAE:\n",
    "\n",
    "- Weighted Moving Average\n",
    "\n",
    "  R2 Score: 0.51 MAE\n",
    "  \n",
    "  MAE: 797.07 MAE\n",
    "\n",
    "\n",
    "- Exponential Moving Average\n",
    "\n",
    "  R2 Score: 0.68 MAE\n",
    "  \n",
    "  MAE: 759.18 MAE\n",
    "\n",
    "\n",
    "- Linear Regression\n",
    "\n",
    "  R2 Score: 0.791538\n",
    "  \n",
    "  MAE: 869.26\n",
    "\n",
    "\n",
    "- LSTM\n",
    "\n",
    "  R2 Score: 0.82\n",
    "  \n",
    "  MAE: 660.36"
   ]
  },
  {
   "cell_type": "markdown",
   "metadata": {},
   "source": [
    "### More things that could have been tried\n",
    "\n",
    "- Instead of a simple linear regression, we could try polynomial regression\n",
    "- Other models like Random Forest, Boosted trees etc"
   ]
  },
  {
   "cell_type": "markdown",
   "metadata": {},
   "source": [
    "### Predict session length for a Given IP"
   ]
  },
  {
   "cell_type": "markdown",
   "metadata": {},
   "source": [
    "This is one of the problems I gave a good amount of thought as to how to approach it. Personally, I think the question is a little vague - we can formulate the problem in different ways:\n",
    "\n",
    "- A very naive way of interpreting this problem is just to take the average session lengths per user/IP based on our previously sessionized data and consider the averages as prediction. \n",
    "\n",
    "- Given that the session length for a user/IP might actually depend on factors like what hour of the day he is having the session in. For example, a particular user might have a pattern of spending more times in a session during the evening time, but less times suring other times of the day. Taking this into consideration, we can try to predict the session length for an IP given a particular hour of the day, rather than just predicting for an IP. We can try a linear regression type approach for doing this.\n",
    "\n",
    "- Another approach can be a time-series based approach. However, unlike the previous case (predicting next minute load), this will be trickier since user sessions don't take place continuously one after another, and also again, session length could be a function of specific hours of the day (and also on specific day of the week, whether it is a holiday or not) etc. So we could formulate the problem like for predicting the next session length given some history, however, unlike the next minute load prediction case, we need to consider some periodic history here. For example:\n",
    "    - Let'say we find that a user has some periodic daily session behaviour like the following:\n",
    "            10 AM     1 PM      5 PM      10 PM\n",
    "            -------------------------------------------\n",
    "            20 min    5 min     40 min    2 hours (these are approximation)\n",
    "      \n",
    "      And let's say we also determine that the user has a maximum of 4 sessions per day.\n",
    "      Now using this sort of pattern , we can first try to formulate an LSTM type problem, where the prediction will       be done for 4 steps ahead in the future, instead of the very next step.\n",
    "      \n",
    "  For approching the problem in this way though, I don't think we have enough data in the given context, since we have only portion of one day's data.\n",
    "  \n",
    "Below I will first do approach 1 (naive average approach per IP) and then try approach 2 (regression) mentioned above. However, since we only have one day's data, I will only train the model and do the prediction on the trainin data, since a proper train-test split is not possible for one day's data. And even for that, there isn't really enough data here."
   ]
  },
  {
   "cell_type": "markdown",
   "metadata": {},
   "source": [
    "### Linear Regression approach (hour based)"
   ]
  },
  {
   "cell_type": "code",
   "execution_count": 82,
   "metadata": {},
   "outputs": [],
   "source": [
    "hours = [i for i in range(0, 24)]\n",
    "hours_df = spark.createDataFrame(hours, IntegerType())\n",
    "hours_df.createOrReplaceTempView('hours_df')\n",
    "\n",
    "hour_encoder = OneHotEncoderEstimator(inputCols=['value'],\n",
    "                                 outputCols=['hour_vec'])\n",
    "hour_model = hour_encoder.fit(hours_df)\n",
    "hour_encoded = hour_model.transform(hours_df)\n",
    "hour_encoded.createOrReplaceTempView('hour_encoded')\n",
    "\n",
    "df_session_with_length_and_hour = \\\n",
    "        df_session_with_length.select('client_ip',\n",
    "                                      F.hour(F.col('session_start_time').cast(TimestampType())).alias('hour'),\n",
    "                                     'session_length')\n",
    "\n",
    "df_session_with_length_and_hour.createOrReplaceTempView('df_session_with_length_and_hour')"
   ]
  },
  {
   "cell_type": "code",
   "execution_count": 83,
   "metadata": {},
   "outputs": [],
   "source": [
    "def get_client_df(ip):\n",
    "    df_client_hour = spark.sql(\"\"\"\n",
    "        select h.value as hour,\n",
    "               x.client_ip as client_ip\n",
    "        from hours_df h\n",
    "        cross join (select '{ip}' as client_ip) x\n",
    "    \"\"\".format(ip=ip))\n",
    "    df_client_hour.createOrReplaceTempView('df_client_hour')\n",
    "\n",
    "\n",
    "    df_features_session = spark.sql(\"\"\"\n",
    "        select h.client_ip,\n",
    "                h.hour as hour,  \n",
    "                avg(coalesce(sr.session_length, 0)) as session_length\n",
    "        from df_client_hour h\n",
    "            inner join df_session_with_length_and_hour sr\n",
    "            on sr.hour = h.hour\n",
    "            and sr.client_ip = h.client_ip\n",
    "        group by 1, 2\n",
    "        order by 1, 2\n",
    "    \"\"\")\n",
    "\n",
    "    df_features_session.createOrReplaceTempView('df_features_session')\n",
    "\n",
    "    df_features_session = spark.sql(\"\"\"\n",
    "        select  d.client_ip,\n",
    "                h.hour_vec,  \n",
    "                d.session_length\n",
    "        from df_features_session d\n",
    "            inner join hour_encoded h\n",
    "            on h.value = d.hour\n",
    "    \"\"\")\n",
    "    df_features_session.createOrReplaceTempView('df_features_session')\n",
    "    \n",
    "    return df_features_session\n",
    "\n",
    "def predict_session_length_for_ip(ip):\n",
    "    df_client = get_client_df(ip)\n",
    "    vdf_features_sess = get_df_for_regression(df_client, ['hour_vec'], 'session_length')    \n",
    "    lr_sess_model = perform_linear_regression(vdf_features_sess, 'session_length')\n",
    "    return vdf_features_sess, lr_sess_model"
   ]
  },
  {
   "cell_type": "code",
   "execution_count": 84,
   "metadata": {},
   "outputs": [
    {
     "name": "stdout",
     "output_type": "stream",
     "text": [
      "Coefficients: [0.0,0.0,-108.4330048366117,0.0,0.0,-107.68827801534408,-52.05058711034297,0.0,0.0,-53.97620606431383,1752.8587265600186,0.0,0.0,0.0,0.0,2951.1533909276377,0.0,1207.8127694730201,0.0,7.599785195277663,0.0,-70.56098034257863,0.0]\n",
      "Intercept: 296.2858089066227\n"
     ]
    }
   ],
   "source": [
    "vdf_features_sess, lr_sess_model = predict_session_length_for_ip('220.226.206.7')"
   ]
  },
  {
   "cell_type": "markdown",
   "metadata": {},
   "source": [
    "#### Let's evaluate the R2 score and MAE on the same data it was trained on. Again, this doesn't necessarily indicate anything useful since we are evaluating on the same training data."
   ]
  },
  {
   "cell_type": "code",
   "execution_count": 85,
   "metadata": {},
   "outputs": [
    {
     "name": "stdout",
     "output_type": "stream",
     "text": [
      "R Squared (R2) = 0.999999\n"
     ]
    }
   ],
   "source": [
    "lr_predictions_sess = lr_sess_model.transform(vdf_features_sess)\n",
    "# lr_predictions.select(\"prediction\", \"request_count\", \"features\").show(5, False)\n",
    "lr_evaluator_sess = RegressionEvaluator(predictionCol=\"prediction\", \\\n",
    "                 labelCol=\"session_length\",metricName=\"r2\")\n",
    "print(\"R Squared (R2) = %g\" % lr_evaluator_sess.evaluate(lr_predictions_sess))"
   ]
  },
  {
   "cell_type": "code",
   "execution_count": 86,
   "metadata": {},
   "outputs": [],
   "source": [
    "y_actual_sess = vdf_features_sess.select('session_length').toPandas()\n",
    "y_predictions_sess = lr_predictions_sess.select('prediction').toPandas()"
   ]
  },
  {
   "cell_type": "code",
   "execution_count": 87,
   "metadata": {},
   "outputs": [
    {
     "name": "stdout",
     "output_type": "stream",
     "text": [
      "Score: 0.73 MAE\n"
     ]
    }
   ],
   "source": [
    "score = mean_absolute_error(y_actual_sess, y_predictions_sess)\n",
    "print('Score: %.2f MAE' % (score))"
   ]
  },
  {
   "cell_type": "markdown",
   "metadata": {},
   "source": [
    "### Predict the number of unique URL visits by a given IP"
   ]
  },
  {
   "cell_type": "markdown",
   "metadata": {},
   "source": [
    "Since we are looking for unique URL visits per IP for the lifetime, I was a little confused about how that can be predicted based on just one single day's log file. Ideally, I would say that's not possible. The best I can think of is something like this:\n",
    "\n",
    "- Assume that the average number of days of a IP/user lifetime is x days.\n",
    "- Get the total number of unique URLs per day for the IP. Call this n.\n",
    "- Assuming every day, y% of new unique URL hits are encountered - on top of what has already been hit in the previous days, we can come up with a heuristic like:\n",
    "\n",
    "   n + (n * y) + (n * y^2) + ... + (n * y^(x-1))\n",
    "   \n",
    "- Now the challenge is how we figure out x and y. I don't have anything off top as to how to approximate x.\n",
    "  For y, again as a heuristic, we could try to leverage the session information we have for a single day. For   \n",
    "  example, if a user has 3 sessions during the day:\n",
    "    - session 1 - 5 unique urls\n",
    "    - session 2 - 6 unique urls, but only 2 of them new, so retain ratio = (6 - 2) /5 = 0.8\n",
    "    - session 3 - 6 unique urls, but only 1 of them new, so retain ratio = (6 - 1) /7 = 0.714\n",
    "    So approximate value of y will be:\n",
    "    \n",
    "    1 - (0.8 + 0.714) / 2 = 1 - 0.757 = 0.353\n",
    "  \n",
    "  Now this value of y can be plugged into the formula above to get an approximation of the number of unique URL visiits by a given IP.\n",
    "  \n",
    "  Because of time limitations, I haven't tried to implement the y approximation here. Below I only calculate the number of unique URLs for the day per IP."
   ]
  },
  {
   "cell_type": "code",
   "execution_count": 88,
   "metadata": {},
   "outputs": [],
   "source": [
    "df_url_count = spark.sql(\"\"\"\n",
    "    select client_ip, count(distinct url) as url_count\n",
    "    from df_with_time_and_ip\n",
    "    group by client_ip\n",
    "\"\"\")\n"
   ]
  },
  {
   "cell_type": "code",
   "execution_count": 89,
   "metadata": {},
   "outputs": [
    {
     "name": "stdout",
     "output_type": "stream",
     "text": [
      "+--------------+---------+\n",
      "|client_ip     |url_count|\n",
      "+--------------+---------+\n",
      "|27.63.186.72  |6        |\n",
      "|14.139.82.134 |108      |\n",
      "|117.241.152.20|34       |\n",
      "|113.193.114.25|84       |\n",
      "|120.61.47.36  |7        |\n",
      "+--------------+---------+\n",
      "only showing top 5 rows\n",
      "\n"
     ]
    }
   ],
   "source": [
    "df_url_count.show(5, False)"
   ]
  },
  {
   "cell_type": "markdown",
   "metadata": {},
   "source": [
    "Now, let's say if we somehow know that the average lifetime of an IP is 5 days, and we somehow figured that the retain ratio y is say 0.8. We can calculate the approximate unique URLs visit by IP 14.139.82.134 as:"
   ]
  },
  {
   "cell_type": "code",
   "execution_count": 91,
   "metadata": {},
   "outputs": [
    {
     "data": {
      "text/plain": [
       "134.9568"
      ]
     },
     "execution_count": 91,
     "metadata": {},
     "output_type": "execute_result"
    }
   ],
   "source": [
    "108 + (108 * 0.2) + (108 * math.pow(0.2, 2)) + (108 * math.pow(0.2, 3)) + (108 * math.pow(0.2, 4))"
   ]
  },
  {
   "cell_type": "markdown",
   "metadata": {},
   "source": [
    "Once again, I would admit that this whole scheme is a wild heuristic imagination I came up with and I demand no justification to it. Would be happy to discuss."
   ]
  },
  {
   "cell_type": "markdown",
   "metadata": {},
   "source": [
    "## References:\n",
    "\n",
    "[1] Finding user sessions with SQL. https://mode.com/blog/finding-user-sessions-sql\n",
    "\n",
    "[2] Time Series Prediction with LSTM Recurrent Neural Networks in Python with Keras. https://machinelearningmastery.com/time-series-prediction-lstm-recurrent-neural-networks-python-keras/"
   ]
  }
 ],
 "metadata": {
  "kernelspec": {
   "display_name": "Python 3",
   "language": "python",
   "name": "python3"
  },
  "language_info": {
   "codemirror_mode": {
    "name": "ipython",
    "version": 3
   },
   "file_extension": ".py",
   "mimetype": "text/x-python",
   "name": "python",
   "nbconvert_exporter": "python",
   "pygments_lexer": "ipython3",
   "version": "3.6.7"
  }
 },
 "nbformat": 4,
 "nbformat_minor": 2
}
