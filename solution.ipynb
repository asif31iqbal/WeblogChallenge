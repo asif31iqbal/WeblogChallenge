{
 "cells": [
  {
   "cell_type": "code",
   "execution_count": 586,
   "metadata": {},
   "outputs": [],
   "source": [
    "import pyspark\n",
    "from pyspark.sql import SparkSession\n",
    "from pyspark.sql.types import (DateType, StringType, StructField, StructType, TimestampType, ArrayType,\n",
    "                               FloatType, IntegerType, LongType)\n",
    "import pyspark.sql.functions as F\n",
    "from pyspark.sql import Window\n",
    "\n",
    "from pyspark.ml.feature import VectorAssembler\n",
    "from pyspark.ml.regression import LinearRegression\n",
    "from pyspark.ml.regression import RandomForestRegressor\n",
    "from pyspark.ml.evaluation import RegressionEvaluator\n",
    "from pyspark.ml.feature import OneHotEncoderEstimator\n",
    "\n",
    "from operator import add\n",
    "from functools import reduce\n",
    "\n",
    "from sklearn.model_selection import train_test_split\n",
    "from sklearn.preprocessing import MinMaxScaler\n",
    "from sklearn.metrics import mean_squared_error, mean_absolute_error, r2_score\n",
    "\n",
    "from keras.models import Sequential\n",
    "from keras import layers\n",
    "from keras.optimizers import RMSprop\n",
    "\n",
    "from matplotlib import pyplot as plt\n",
    "import numpy as np\n",
    "import pandas as pd\n",
    "import math\n",
    "from datetime import timedelta  \n",
    "\n",
    "\n",
    "%matplotlib inline"
   ]
  },
  {
   "cell_type": "code",
   "execution_count": 2,
   "metadata": {},
   "outputs": [],
   "source": [
    "spark = SparkSession.builder.getOrCreate()"
   ]
  },
  {
   "cell_type": "code",
   "execution_count": 3,
   "metadata": {},
   "outputs": [
    {
     "data": {
      "text/html": [
       "\n",
       "            <div>\n",
       "                <p><b>SparkSession - in-memory</b></p>\n",
       "                \n",
       "        <div>\n",
       "            <p><b>SparkContext</b></p>\n",
       "\n",
       "            <p><a href=\"http://192.168.2.11:4040\">Spark UI</a></p>\n",
       "\n",
       "            <dl>\n",
       "              <dt>Version</dt>\n",
       "                <dd><code>v2.4.0</code></dd>\n",
       "              <dt>Master</dt>\n",
       "                <dd><code>local[*]</code></dd>\n",
       "              <dt>AppName</dt>\n",
       "                <dd><code>pyspark-shell</code></dd>\n",
       "            </dl>\n",
       "        </div>\n",
       "        \n",
       "            </div>\n",
       "        "
      ],
      "text/plain": [
       "<pyspark.sql.session.SparkSession at 0x1a2969ce48>"
      ]
     },
     "execution_count": 3,
     "metadata": {},
     "output_type": "execute_result"
    }
   ],
   "source": [
    "spark"
   ]
  },
  {
   "cell_type": "code",
   "execution_count": 4,
   "metadata": {},
   "outputs": [],
   "source": [
    "schema = StructType([\n",
    "    StructField(\"timestamp\", StringType()),\n",
    "    StructField(\"elb\", StringType()),\n",
    "    StructField(\"client_port\", StringType()),\n",
    "    StructField(\"backend_port\", StringType()),\n",
    "    StructField(\"request_processing_time\", FloatType()),\n",
    "    StructField(\"backend_processing_time\", FloatType()),\n",
    "    StructField(\"response_processing_time\", FloatType()),\n",
    "    StructField(\"elb_status_code\", IntegerType()),\n",
    "    StructField(\"backend_status_code\", IntegerType()),\n",
    "    StructField(\"received_bytes\", LongType()),\n",
    "    StructField(\"sent_bytes\", LongType()),\n",
    "    StructField(\"request\", StringType()),\n",
    "    StructField(\"user_agent\", StringType()),\n",
    "    StructField(\"ssl_cipher\", StringType()),\n",
    "    StructField(\"ssl_protocol\", StringType())\n",
    "])"
   ]
  },
  {
   "cell_type": "code",
   "execution_count": 5,
   "metadata": {},
   "outputs": [],
   "source": [
    "df = spark.read.csv('2015_07_22_mktplace_shop_web_log_sample.log', sep=' ', schema=schema)"
   ]
  },
  {
   "cell_type": "code",
   "execution_count": 6,
   "metadata": {},
   "outputs": [
    {
     "name": "stdout",
     "output_type": "stream",
     "text": [
      "root\n",
      " |-- timestamp: string (nullable = true)\n",
      " |-- elb: string (nullable = true)\n",
      " |-- client_port: string (nullable = true)\n",
      " |-- backend_port: string (nullable = true)\n",
      " |-- request_processing_time: float (nullable = true)\n",
      " |-- backend_processing_time: float (nullable = true)\n",
      " |-- response_processing_time: float (nullable = true)\n",
      " |-- elb_status_code: integer (nullable = true)\n",
      " |-- backend_status_code: integer (nullable = true)\n",
      " |-- received_bytes: long (nullable = true)\n",
      " |-- sent_bytes: long (nullable = true)\n",
      " |-- request: string (nullable = true)\n",
      " |-- user_agent: string (nullable = true)\n",
      " |-- ssl_cipher: string (nullable = true)\n",
      " |-- ssl_protocol: string (nullable = true)\n",
      "\n"
     ]
    }
   ],
   "source": [
    "df.printSchema()"
   ]
  },
  {
   "cell_type": "code",
   "execution_count": 7,
   "metadata": {
    "scrolled": true
   },
   "outputs": [
    {
     "name": "stdout",
     "output_type": "stream",
     "text": [
      "+---------------------------+----------------+------------------+-------------+-----------------------+-----------------------+------------------------+---------------+-------------------+--------------+----------+------------------------------------------------------------------+------------------------------------------------------------------------+---------------------------+------------+\n",
      "|timestamp                  |elb             |client_port       |backend_port |request_processing_time|backend_processing_time|response_processing_time|elb_status_code|backend_status_code|received_bytes|sent_bytes|request                                                           |user_agent                                                              |ssl_cipher                 |ssl_protocol|\n",
      "+---------------------------+----------------+------------------+-------------+-----------------------+-----------------------+------------------------+---------------+-------------------+--------------+----------+------------------------------------------------------------------+------------------------------------------------------------------------+---------------------------+------------+\n",
      "|2015-07-22T16:14:36.308131Z|marketpalce-shop|1.186.143.37:11395|10.0.4.150:80|2.3E-5                 |0.004619               |2.0E-5                  |200            |200                |0             |13989     |GET https://paytm.com:443/ HTTP/1.1                               |Mozilla/5.0 (Windows NT 6.1; WOW64; rv:39.0) Gecko/20100101 Firefox/39.0|ECDHE-RSA-AES128-GCM-SHA256|TLSv1.2     |\n",
      "|2015-07-22T16:14:44.846873Z|marketpalce-shop|1.186.143.37:11395|10.0.6.108:80|2.5E-5                 |0.008939               |2.1E-5                  |200            |200                |0             |215       |GET https://paytm.com:443/shop/cart?channel=web&version=2 HTTP/1.1|Mozilla/5.0 (Windows NT 6.1; WOW64; rv:39.0) Gecko/20100101 Firefox/39.0|ECDHE-RSA-AES128-GCM-SHA256|TLSv1.2     |\n",
      "+---------------------------+----------------+------------------+-------------+-----------------------+-----------------------+------------------------+---------------+-------------------+--------------+----------+------------------------------------------------------------------+------------------------------------------------------------------------+---------------------------+------------+\n",
      "\n"
     ]
    }
   ],
   "source": [
    "df.where('client_port LIKE \"1.186.143.37%\"').show(50, False)"
   ]
  },
  {
   "cell_type": "code",
   "execution_count": 9,
   "metadata": {},
   "outputs": [],
   "source": [
    "timestamp_format = \"yyyy-MM-dd'T'HH:mm:ss\"\n",
    "\n",
    "def request_timestamp(time_col):\n",
    "    return (F.to_timestamp(time_col, format=timestamp_format).cast('double') + \\\n",
    "            F.substring(time_col, -8, 7).cast('double'))\n",
    "\n",
    "def return_timestamp(time_col):\n",
    "    return request_timestamp(time_col) + \\\n",
    "            F.when(F.col('request_processing_time') == -1, 0.0).otherwise(F.col('request_processing_time')) + \\\n",
    "            F.when(F.col('backend_processing_time') == -1, 0.0).otherwise(F.col('backend_processing_time')) + \\\n",
    "            F.when(F.col('response_processing_time') == -1, 0.0).otherwise(F.col('response_processing_time'))"
   ]
  },
  {
   "cell_type": "code",
   "execution_count": 10,
   "metadata": {},
   "outputs": [],
   "source": [
    "df_temp = df.select('timestamp',\n",
    "                    request_timestamp('timestamp').alias('request_timestamp'),\n",
    "                    return_timestamp('timestamp').alias('return_timestamp'),\n",
    "                    F.substring_index('client_port', ':', 1).alias('client_ip'),\n",
    "                    F.regexp_extract('request', r'https{0,1}:[^\\s]+', 0).alias('url'))\n",
    "\n",
    "# ,\n",
    "#                (((F.unix_timestamp('timestamp', format=timestamp_format) * 1000).cast('double') + \n",
    "#                 (F.col('request_processing_time') * 1000)) / 1000).cast('timestamp').alias('gheu')\n",
    "# F.expr(\"substring(request, instr(request, ' '), length(request))\").alias('url'))\n",
    "# F.substring_index()\n",
    "# d1.select(F.substring('temm',1, 10)).show(50, False)\n",
    "# d1.select(F.substring('temm', F.instr('temm', ' '), F.length('temm'))).show(50, False)\n"
   ]
  },
  {
   "cell_type": "code",
   "execution_count": 11,
   "metadata": {},
   "outputs": [
    {
     "name": "stdout",
     "output_type": "stream",
     "text": [
      "+---------------------------+-------------------+--------------------+---------------+---------------------------------------------------------------------------------------------------+\n",
      "|timestamp                  |request_timestamp  |return_timestamp    |client_ip      |url                                                                                                |\n",
      "+---------------------------+-------------------+--------------------+---------------+---------------------------------------------------------------------------------------------------+\n",
      "|2015-07-22T09:00:28.019143Z|1.437570028019143E9|1.437570028045294E9 |123.242.248.130|https://paytm.com:443/shop/authresponse?code=f2405b05-e2ee-4b0d-8f6a-9fed0fcfe2e0&state=null       |\n",
      "|2015-07-22T09:00:27.894580Z|1.43757002789458E9 |1.43757002804797E9  |203.91.211.44  |https://paytm.com:443/shop/wallet/txnhistory?page_size=10&page_number=0&channel=web&version=2      |\n",
      "|2015-07-22T09:00:27.885745Z|1.437570027885745E9|1.437570028050744E9 |1.39.32.179    |https://paytm.com:443/shop/wallet/txnhistory?page_size=10&page_number=0&channel=web&version=2      |\n",
      "|2015-07-22T09:00:28.048369Z|1.437570028048369E9|1.4375700280507429E9|180.179.213.94 |https://paytm.com:443/shop/p/micromax-yu-yureka-moonstone-grey-MOBMICROMAX-YU-DUMM141CD60AF7C_34315|\n",
      "|2015-07-22T09:00:28.036251Z|1.437570028036251E9|1.437570028051382E9 |120.59.192.208 |https://paytm.com:443/papi/v1/expresscart/verify                                                   |\n",
      "+---------------------------+-------------------+--------------------+---------------+---------------------------------------------------------------------------------------------------+\n",
      "only showing top 5 rows\n",
      "\n"
     ]
    }
   ],
   "source": [
    "df_temp.show(5, False)"
   ]
  },
  {
   "cell_type": "code",
   "execution_count": 12,
   "metadata": {},
   "outputs": [],
   "source": [
    "df_temp.createOrReplaceTempView('df_temp')"
   ]
  },
  {
   "cell_type": "code",
   "execution_count": 13,
   "metadata": {
    "scrolled": true
   },
   "outputs": [],
   "source": [
    "idle_time = 1800 # 15 minutes\n",
    "\n",
    "df_sessionized = spark.sql(\"\"\"\n",
    "with temp as (\n",
    "    select *,\n",
    "    LAG(return_timestamp, 1) OVER\n",
    "    (PARTITION BY client_ip ORDER BY request_timestamp) AS last_return_timestamp \n",
    "    from df_temp\n",
    "),\n",
    "temp2 as \n",
    "(\n",
    "    select *, request_timestamp - last_return_timestamp as diff from temp\n",
    "),\n",
    "temp3 as \n",
    "(\n",
    "    select *,\n",
    "        case when diff > {idle_time} or last_return_timestamp is null then 1 else 0 end as session_start\n",
    "    from temp2\n",
    ")\n",
    "select *,\n",
    "        sum(session_start) OVER (PARTITION BY client_ip order by request_timestamp) as user_session_id\n",
    "from temp3\n",
    "\"\"\".format(idle_time=idle_time))"
   ]
  },
  {
   "cell_type": "code",
   "execution_count": 14,
   "metadata": {},
   "outputs": [
    {
     "name": "stdout",
     "output_type": "stream",
     "text": [
      "+---------------------------+-------------------+--------------------+------------+---------------------------------------------------------------------------------------------------+---------------------+--------------------+-------------+---------------+\n",
      "|timestamp                  |request_timestamp  |return_timestamp    |client_ip   |url                                                                                                |last_return_timestamp|diff                |session_start|user_session_id|\n",
      "+---------------------------+-------------------+--------------------+------------+---------------------------------------------------------------------------------------------------+---------------------+--------------------+-------------+---------------+\n",
      "|2015-07-22T16:14:36.308131Z|1.437596076308131E9|1.4375960763127928E9|1.186.143.37|https://paytm.com:443/                                                                             |null                 |null                |1            |1              |\n",
      "|2015-07-22T16:14:44.846873Z|1.437596084846873E9|1.437596084855858E9 |1.186.143.37|https://paytm.com:443/shop/cart?channel=web&version=2                                              |1.4375960763127928E9 |8.534080266952515   |0            |1              |\n",
      "|2015-07-22T02:43:31.135201Z|1.437547411135201E9|1.437547411141281E9 |1.187.164.29|https://paytm.com:443/shop?utm_source=Affiliates&utm_medium=VCOMM&utm_campaign=VCOMM&utm_term=24890|null                 |null                |1            |1              |\n",
      "|2015-07-22T02:43:42.735304Z|1.437547422735304E9|1.4375474227412002E9|1.187.164.29|https://paytm.com:443/shop/cart?channel=web&version=2                                              |1.437547411141281E9  |11.59402322769165   |0            |1              |\n",
      "|2015-07-22T02:43:47.685225Z|1.437547427685225E9|1.43754742768772E9  |1.187.164.29|https://paytm.com:443/shop/login?isIframe=true&theme=mp-web                                        |1.4375474227412002E9 |4.9440248012542725  |0            |1              |\n",
      "|2015-07-22T02:44:19.075268Z|1.437547459075268E9|1.437547459106541E9 |1.187.164.29|https://paytm.com:443/shop/authresponse?code=d1aa3c22-b32b-41a4-95c8-14097487c261                  |1.43754742768772E9   |31.387547969818115  |0            |1              |\n",
      "|2015-07-22T02:44:20.084871Z|1.437547460084871E9|1.437547460111839E9 |1.187.164.29|https://paytm.com:443/shop/v1/frequentorders?channel=web&version=2                                 |1.437547459106541E9  |0.978330135345459   |0            |1              |\n",
      "|2015-07-22T02:44:21.995557Z|1.437547461995557E9|1.4375474620065699E9|1.187.164.29|https://paytm.com:443/shop/cart?channel=web&version=2                                              |1.437547460111839E9  |1.8837180137634277  |0            |1              |\n",
      "|2015-07-22T02:44:23.254646Z|1.437547463254646E9|1.437547463407701E9 |1.187.164.29|https://paytm.com:443/shop/wallet/txnhistory?page_size=10&page_number=0&channel=web&version=2      |1.4375474620065699E9 |1.2480762004852295  |0            |1              |\n",
      "|2015-07-22T02:44:23.295011Z|1.437547463295011E9|1.437547463423099E9 |1.187.164.29|https://paytm.com:443/shop/wallet/balance?channel=web&version=2                                    |1.437547463407701E9  |-0.11268997192382812|0            |1              |\n",
      "|2015-07-22T02:44:40.245266Z|1.437547480245266E9|1.437547480499369E9 |1.187.164.29|https://paytm.com:443/shop/wallet/getP2BModelWindowDetails                                         |1.437547463423099E9  |16.822166919708252  |0            |1              |\n",
      "|2015-07-22T16:42:59.014170Z|1.43759777901417E9 |1.43759777901905E9  |1.22.41.76  |https://paytm.com:443/                                                                             |null                 |null                |1            |1              |\n",
      "|2015-07-22T16:43:07.155189Z|1.437597787155189E9|1.4375977871659348E9|1.22.41.76  |https://paytm.com:443/shop/cart?channel=web&version=2                                              |1.43759777901905E9   |8.136139154434204   |0            |1              |\n",
      "|2015-07-22T16:43:29.154160Z|1.43759780915416E9 |1.437597809158122E9 |1.22.41.76  |https://paytm.com:443/shop/h/electronics/home-appliances?src=gtr1                                  |1.4375977871659348E9 |21.98822522163391   |0            |1              |\n",
      "|2015-07-22T16:43:31.846037Z|1.437597811846037E9|1.4375978119001448E9|1.22.41.76  |https://paytm.com:443/shop/cart?channel=web&version=2                                              |1.437597809158122E9  |2.6879148483276367  |0            |1              |\n",
      "|2015-07-22T16:43:55.687425Z|1.437597835687425E9|1.4375978356913779E9|1.22.41.76  |https://paytm.com:443/shop/g/paytm-home/today-s-blockbuster-sale/woodland-up-to-60-cashback        |1.4375978119001448E9 |23.787280082702637  |0            |1              |\n",
      "|2015-07-22T16:43:57.475919Z|1.437597837475919E9|1.437597837486084E9 |1.22.41.76  |https://paytm.com:443/shop/cart?channel=web&version=2                                              |1.4375978356913779E9 |1.784541130065918   |0            |1              |\n",
      "|2015-07-22T16:43:59.375379Z|1.437597839375379E9|1.4375978393806481E9|1.22.41.76  |https://paytm.com:443/shop/h/electronics/computers-accessories                                     |1.437597837486084E9  |1.8892951011657715  |0            |1              |\n",
      "|2015-07-22T16:44:01.322622Z|1.437597841322622E9|1.437597841331961E9 |1.22.41.76  |https://paytm.com:443/shop/cart?channel=web&version=2                                              |1.4375978393806481E9 |1.9419739246368408  |0            |1              |\n",
      "|2015-07-22T17:41:41.431398Z|1.437601301431398E9|1.437601301439426E9 |1.23.208.26 |https://paytm.com:443/shop/logout?channel=web&version=2                                            |null                 |null                |1            |1              |\n",
      "|2015-07-22T17:41:42.918577Z|1.437601302918577E9|1.4376013029223228E9|1.23.208.26 |https://paytm.com:443/shop                                                                         |1.437601301439426E9  |1.4791510105133057  |0            |1              |\n",
      "|2015-07-22T17:41:43.203903Z|1.437601303203903E9|1.4376013032133489E9|1.23.208.26 |https://paytm.com:443/shop/cart?channel=web&version=2                                              |1.4376013029223228E9 |0.28158020973205566 |0            |1              |\n",
      "|2015-07-22T17:41:45.600178Z|1.437601305600178E9|1.4376013056057858E9|1.23.208.26 |https://paytm.com:443/shop?utm_source=Affiliates&utm_medium=VCOMM&utm_campaign=VCOMM&utm_term=32058|1.4376013032133489E9 |2.386829137802124   |0            |1              |\n",
      "|2015-07-22T17:41:54.913011Z|1.437601314913011E9|1.437601314916646E9 |1.23.208.26 |https://paytm.com:443/shop/login?isIframe=true&theme=mp-web                                        |1.4376013056057858E9 |9.307225227355957   |0            |1              |\n",
      "|2015-07-22T18:00:47.096589Z|1.437602447096589E9|1.437602447097681E9 |1.23.208.26 |http://www.paytm.com:80/                                                                           |1.437601314916646E9  |1132.1799430847168  |0            |1              |\n",
      "|2015-07-22T05:14:24.807342Z|1.437556464807342E9|1.437556464811223E9 |1.23.36.184 |https://paytm.com:443/                                                                             |null                 |null                |1            |1              |\n",
      "|2015-07-22T05:14:28.670080Z|1.43755646867008E9 |1.4375564686749167E9|1.23.36.184 |https://paytm.com:443/shop                                                                         |1.437556464811223E9  |3.8588569164276123  |0            |1              |\n",
      "|2015-07-22T05:14:31.662068Z|1.437556471662068E9|1.437556471674708E9 |1.23.36.184 |https://paytm.com:443/shop/cart?channel=web&version=2                                              |1.4375564686749167E9 |2.9871511459350586  |0            |1              |\n",
      "|2015-07-22T05:14:39.226288Z|1.437556479226288E9|1.4375564792274098E9|1.23.36.184 |https://paytm.com:443/favicon.ico                                                                  |1.437556471674708E9  |7.551580190658569   |0            |1              |\n",
      "|2015-07-22T16:11:38.200366Z|1.437595898200366E9|1.437595898203159E9 |1.38.19.8   |https://paytm.com:443/                                                                             |null                 |null                |1            |1              |\n",
      "|2015-07-22T16:12:38.799981Z|1.437595958799981E9|1.4375959588048432E9|1.38.19.8   |https://paytm.com:443/                                                                             |1.437595898203159E9  |60.596822023391724  |0            |1              |\n",
      "|2015-07-22T09:00:38.768007Z|1.437570038768007E9|1.437570038770753E9 |1.38.20.34  |https://paytm.com:443/shop/login?isIframe=true&theme=mp-web                                        |null                 |null                |1            |1              |\n",
      "|2015-07-22T09:00:39.031079Z|1.437570039031079E9|1.437570039037945E9 |1.38.20.34  |https://paytm.com:443/shop                                                                         |1.437570038770753E9  |0.2603261470794678  |0            |1              |\n",
      "|2015-07-22T09:00:39.851369Z|1.437570039851369E9|1.437570039859176E9 |1.38.20.34  |https://paytm.com:443/shop                                                                         |1.437570039037945E9  |0.8134238719940186  |0            |1              |\n",
      "|2015-07-22T09:00:44.511292Z|1.437570044511292E9|1.437570044720582E9 |1.38.20.34  |https://paytm.com:443/shop/v1/frequentorders?channel=web&version=2                                 |1.437570039859176E9  |4.652116060256958   |0            |1              |\n",
      "|2015-07-22T09:00:45.642521Z|1.437570045642521E9|1.4375700456603408E9|1.38.20.34  |https://paytm.com:443/shop/cart?channel=web&version=2                                              |1.437570044720582E9  |0.9219388961791992  |0            |1              |\n",
      "|2015-07-22T09:01:00.591963Z|1.437570060591963E9|1.4375700607255552E9|1.38.20.34  |https://paytm.com:443/shop/wallet/txnhistory?page_size=10&page_number=0&channel=web&version=2      |1.4375700456603408E9 |14.93162226676941   |0            |1              |\n",
      "|2015-07-22T09:01:00.631928Z|1.437570060631928E9|1.437570060766743E9 |1.38.20.34  |https://paytm.com:443/shop/wallet/balance?channel=web&version=2                                    |1.4375700607255552E9 |-0.0936272144317627 |0            |1              |\n",
      "|2015-07-22T09:01:07.142220Z|1.43757006714222E9 |1.43757006717962E9  |1.38.20.34  |https://paytm.com:443/papi/v1/expresscart/verify                                                   |1.437570060766743E9  |6.375477075576782   |0            |1              |\n",
      "|2015-07-22T09:01:07.731365Z|1.437570067731365E9|1.437570067768147E9 |1.38.20.34  |https://paytm.com:443/papi/v1/expresscart/verify                                                   |1.43757006717962E9   |0.5517449378967285  |0            |1              |\n",
      "|2015-07-22T09:01:08.061715Z|1.437570068061715E9|1.4375700681589248E9|1.38.20.34  |https://paytm.com:443/api/v1/expresscart/checkout?wallet=1                                         |1.437570067768147E9  |0.2935678958892822  |0            |1              |\n",
      "|2015-07-22T09:01:09.460515Z|1.437570069460515E9|1.4375700694651208E9|1.38.20.34  |https://paytm.com:443/shop/summary/1116228004                                                      |1.4375700681589248E9 |1.3015902042388916  |0            |1              |\n",
      "|2015-07-22T09:01:13.072003Z|1.437570073072003E9|1.437570073083371E9 |1.38.20.34  |https://paytm.com:443/shop/cart?channel=web&version=2                                              |1.4375700694651208E9 |3.606882095336914   |0            |1              |\n",
      "|2015-07-22T09:01:13.151986Z|1.437570073151986E9|1.4375700731697009E9|1.38.20.34  |https://paytm.com:443/shop/orderdetail/1116228004?channel=web&version=2                            |1.437570073083371E9  |0.06861495971679688 |0            |1              |\n",
      "|2015-07-22T09:01:37.469375Z|1.437570097469375E9|1.4375700974733598E9|1.38.20.34  |https://paytm.com:443/shop/logout?channel=web&version=2                                            |1.4375700731697009E9 |24.299674034118652  |0            |1              |\n",
      "|2015-07-22T09:01:37.679012Z|1.437570097679012E9|1.437570097684788E9 |1.38.20.34  |https://paytm.com:443/shop                                                                         |1.4375700974733598E9 |0.20565223693847656 |0            |1              |\n",
      "|2015-07-22T09:01:39.649672Z|1.437570099649672E9|1.437570099660684E9 |1.38.20.34  |https://paytm.com:443/shop/cart?channel=web&version=2                                              |1.437570097684788E9  |1.9648840427398682  |0            |1              |\n",
      "|2015-07-22T09:01:44.709345Z|1.437570104709345E9|1.437570104713063E9 |1.38.20.34  |https://paytm.com:443/shop/login?isIframe=true&theme=mp-web                                        |1.437570099660684E9  |5.04866099357605    |0            |1              |\n",
      "|2015-07-22T09:02:33.301874Z|1.437570153301874E9|1.437570153342235E9 |1.38.20.34  |https://paytm.com:443/shop/authresponse?code=e2d4805a-1669-4ba0-aa76-7d9c9bb0cbb1&state=           |1.437570104713063E9  |48.58881092071533   |0            |1              |\n",
      "|2015-07-22T09:02:45.743608Z|1.437570165743608E9|1.4375701657470481E9|1.38.20.34  |https://paytm.com:443/shop/login?isIframe=true&theme=mp-web                                        |1.437570153342235E9  |12.401372909545898  |0            |1              |\n",
      "+---------------------------+-------------------+--------------------+------------+---------------------------------------------------------------------------------------------------+---------------------+--------------------+-------------+---------------+\n",
      "only showing top 50 rows\n",
      "\n"
     ]
    }
   ],
   "source": [
    "df_sessionized.show(50, False)"
   ]
  },
  {
   "cell_type": "code",
   "execution_count": 15,
   "metadata": {},
   "outputs": [],
   "source": [
    "df_sessionized.createOrReplaceTempView('df_sessionized')"
   ]
  },
  {
   "cell_type": "code",
   "execution_count": 16,
   "metadata": {},
   "outputs": [
    {
     "name": "stdout",
     "output_type": "stream",
     "text": [
      "root\n",
      " |-- timestamp: string (nullable = true)\n",
      " |-- request_timestamp: double (nullable = true)\n",
      " |-- return_timestamp: double (nullable = true)\n",
      " |-- client_ip: string (nullable = true)\n",
      " |-- url: string (nullable = true)\n",
      " |-- last_return_timestamp: double (nullable = true)\n",
      " |-- diff: double (nullable = true)\n",
      " |-- session_start: integer (nullable = false)\n",
      " |-- user_session_id: long (nullable = true)\n",
      "\n"
     ]
    }
   ],
   "source": [
    "df_sessionized.printSchema()"
   ]
  },
  {
   "cell_type": "code",
   "execution_count": 431,
   "metadata": {},
   "outputs": [],
   "source": [
    "df_session_with_length = spark.sql(\"\"\"\n",
    "        select client_ip, \n",
    "                user_session_id, \n",
    "                min(request_timestamp) as session_start_time,\n",
    "                max(return_timestamp) - min(request_timestamp) as session_length\n",
    "        from df_sessionized\n",
    "        group by client_ip, user_session_id\n",
    "\"\"\")\n",
    "df_session_with_length.createOrReplaceTempView('df_session_with_length')"
   ]
  },
  {
   "cell_type": "code",
   "execution_count": 432,
   "metadata": {},
   "outputs": [
    {
     "name": "stdout",
     "output_type": "stream",
     "text": [
      "+------------+---------------+-------------------+------------------+\n",
      "|client_ip   |user_session_id|session_start_time |session_length    |\n",
      "+------------+---------------+-------------------+------------------+\n",
      "|1.186.143.37|1              |1.437596076308131E9|8.547727108001709 |\n",
      "|1.187.164.29|1              |1.437547411135201E9|69.36416792869568 |\n",
      "|1.22.41.76  |1              |1.43759777901417E9 |62.31779098510742 |\n",
      "|1.23.208.26 |1              |1.437601301431398E9|1145.6662831306458|\n",
      "|1.23.36.184 |1              |1.437556464807342E9|14.42006778717041 |\n",
      "+------------+---------------+-------------------+------------------+\n",
      "only showing top 5 rows\n",
      "\n"
     ]
    }
   ],
   "source": [
    "df_session_with_length.select('session_length')"
   ]
  },
  {
   "cell_type": "code",
   "execution_count": 430,
   "metadata": {},
   "outputs": [
    {
     "name": "stdout",
     "output_type": "stream",
     "text": [
      "root\n",
      " |-- timestamp: string (nullable = true)\n",
      " |-- request_timestamp: double (nullable = true)\n",
      " |-- return_timestamp: double (nullable = true)\n",
      " |-- client_ip: string (nullable = true)\n",
      " |-- url: string (nullable = true)\n",
      " |-- last_return_timestamp: double (nullable = true)\n",
      " |-- diff: double (nullable = true)\n",
      " |-- session_start: integer (nullable = false)\n",
      " |-- user_session_id: long (nullable = true)\n",
      "\n"
     ]
    }
   ],
   "source": [
    "df_sessionized.printSchema()"
   ]
  },
  {
   "cell_type": "markdown",
   "metadata": {},
   "source": [
    "Average session time"
   ]
  },
  {
   "cell_type": "code",
   "execution_count": 18,
   "metadata": {},
   "outputs": [
    {
     "name": "stdout",
     "output_type": "stream",
     "text": [
      "+-------------------+\n",
      "|avg(session_length)|\n",
      "+-------------------+\n",
      "|164.0693588680101  |\n",
      "+-------------------+\n",
      "\n"
     ]
    }
   ],
   "source": [
    "spark.sql(\"\"\"\n",
    "    select avg(session_length) from df_session_with_length\n",
    "\"\"\").show(1, False)"
   ]
  },
  {
   "cell_type": "markdown",
   "metadata": {},
   "source": [
    "Most engaged users"
   ]
  },
  {
   "cell_type": "code",
   "execution_count": 19,
   "metadata": {},
   "outputs": [
    {
     "name": "stdout",
     "output_type": "stream",
     "text": [
      "+--------------+\n",
      "|client_ip     |\n",
      "+--------------+\n",
      "|103.29.159.138|\n",
      "|125.16.218.194|\n",
      "|14.99.226.79  |\n",
      "|117.217.94.18 |\n",
      "|117.218.61.172|\n",
      "+--------------+\n",
      "only showing top 5 rows\n",
      "\n"
     ]
    }
   ],
   "source": [
    "spark.sql(\"\"\"\n",
    "        with temp as (\n",
    "            select client_ip, \n",
    "                    avg(session_length) as max_session \n",
    "            from df_session_with_length\n",
    "            group by client_ip\n",
    "        )\n",
    "        select client_ip from temp order by max_session desc\n",
    "\"\"\").show(5, False)"
   ]
  },
  {
   "cell_type": "markdown",
   "metadata": {},
   "source": [
    "Unique URL visits per session"
   ]
  },
  {
   "cell_type": "code",
   "execution_count": 20,
   "metadata": {},
   "outputs": [
    {
     "name": "stdout",
     "output_type": "stream",
     "text": [
      "+------------+---------------+---------+\n",
      "|client_ip   |user_session_id|url_count|\n",
      "+------------+---------------+---------+\n",
      "|1.186.143.37|1              |2        |\n",
      "|1.187.164.29|1              |8        |\n",
      "|1.22.41.76  |1              |5        |\n",
      "|1.23.208.26 |1              |6        |\n",
      "|1.23.36.184 |1              |4        |\n",
      "+------------+---------------+---------+\n",
      "only showing top 5 rows\n",
      "\n"
     ]
    }
   ],
   "source": [
    "spark.sql(\"\"\"\n",
    "        select client_ip, \n",
    "                user_session_id, \n",
    "        count(distinct url) as url_count\n",
    "        from df_sessionized\n",
    "        group by client_ip, user_session_id\n",
    "\"\"\").show(5, False)"
   ]
  },
  {
   "cell_type": "code",
   "execution_count": 21,
   "metadata": {},
   "outputs": [
    {
     "name": "stdout",
     "output_type": "stream",
     "text": [
      "+---------------------------------+\n",
      "|to_timestamp(`request_timestamp`)|\n",
      "+---------------------------------+\n",
      "|2015-07-22 09:00:28.019143       |\n",
      "|2015-07-22 09:00:27.89458        |\n",
      "|2015-07-22 09:00:27.885745       |\n",
      "|2015-07-22 09:00:28.048369       |\n",
      "|2015-07-22 09:00:28.036251       |\n",
      "+---------------------------------+\n",
      "only showing top 5 rows\n",
      "\n"
     ]
    }
   ],
   "source": [
    "df_sessionized.select(F.to_timestamp('request_timestamp')).show(5, False)"
   ]
  },
  {
   "cell_type": "code",
   "execution_count": 24,
   "metadata": {},
   "outputs": [
    {
     "name": "stdout",
     "output_type": "stream",
     "text": [
      "+------------------------------------------------------------+\n",
      "|to_timestamp(df_temp.`timestamp`, 'yyyy-MM-dd\\'T\\'HH:mm:ss')|\n",
      "+------------------------------------------------------------+\n",
      "|2015-07-22 09:00:28                                         |\n",
      "|2015-07-22 09:00:27                                         |\n",
      "|2015-07-22 09:00:27                                         |\n",
      "|2015-07-22 09:00:28                                         |\n",
      "|2015-07-22 09:00:28                                         |\n",
      "+------------------------------------------------------------+\n",
      "only showing top 5 rows\n",
      "\n"
     ]
    }
   ],
   "source": [
    "spark.sql(\"\"\"\n",
    "    select to_timestamp(timestamp, \"yyyy-MM-dd'T'HH:mm:ss\") from df_temp\n",
    "\"\"\").show(5, False)"
   ]
  },
  {
   "cell_type": "code",
   "execution_count": 623,
   "metadata": {},
   "outputs": [],
   "source": [
    "df_features_raw = spark.sql(\"\"\"\n",
    "        select to_timestamp(timestamp, \"yyyy-MM-dd'T'HH:mm\") as timestamp_upto_minute,\n",
    "                count(1) as request_count\n",
    "        from df_temp\n",
    "        group by 1\n",
    "\"\"\")\n",
    "df_features_raw.createOrReplaceTempView('df_features_raw')"
   ]
  },
  {
   "cell_type": "code",
   "execution_count": 630,
   "metadata": {},
   "outputs": [],
   "source": [
    "min_max_time = df_features_raw.agg(F.min(F.to_timestamp('timestamp_upto_minute')), \n",
    "                                  F.max(F.to_timestamp('timestamp_upto_minute'))).collect()\n",
    "\n",
    "times = []\n",
    "time = min_max_time[0][0]\n",
    "while time <= min_max_time[0][1]:\n",
    "    times.append(time)\n",
    "    time = time + timedelta(minutes=1)  \n",
    "    \n",
    "all_minutes = spark.createDataFrame(times, TimestampType())\n",
    "all_minutes.createOrReplaceTempView('all_minutes')\n",
    "\n",
    "df_features_raw = spark.sql(\"\"\"\n",
    "    select to_timestamp(am.value) as timestamp_upto_minute,  \n",
    "            coalesce(fr.request_count, 0) as request_count\n",
    "    from all_minutes am\n",
    "        left join df_features_raw fr\n",
    "        on fr.timestamp_upto_minute = to_timestamp(am.value)\n",
    "    order by 1\n",
    "\"\"\")"
   ]
  },
  {
   "cell_type": "markdown",
   "metadata": {},
   "source": [
    "### Predict using weighted average and exponentially moving average"
   ]
  },
  {
   "cell_type": "code",
   "execution_count": 644,
   "metadata": {},
   "outputs": [],
   "source": [
    "def weighted_average(c, window, offsets, weights):\n",
    "    assert len(weights) == len(offsets)\n",
    "\n",
    "    def value(i):\n",
    "        if i < 0: return F.lag(c, -i).over(window)\n",
    "        if i > 0: return F.lead(c, i).over(window)\n",
    "        return c\n",
    "\n",
    "    # Create a list of Columns\n",
    "    # - `value_i * weight_i` if `value_i IS NOT NULL` \n",
    "    # - literal 0 otherwise\n",
    "    values = [F.coalesce(value(i) * w, F.lit(0)) for i, w in zip(offsets, weights)]\n",
    "\n",
    "    # or sum(values, lit(0))\n",
    "    return reduce(add, values, F.lit(0))\n",
    "\n",
    "def exponentially_moving_average(row_number, column_partition_values, window_size=5):\n",
    "    smooth_factor = 2.0 / (window_size + 1)\n",
    "\n",
    "    numerator = 0.0\n",
    "    nominator = 0.0\n",
    "\n",
    "    for i in range(row_number): \n",
    "        current_factor = math.pow(1 - smooth_factor, len(column_partition_values) - i - 1)         \n",
    "        numerator = numerator + current_factor * column_partition_values[i]\n",
    "        nominator = nominator + current_factor\n",
    "\n",
    "    return numerator/nominator\n",
    "\n",
    "exponentially_moving_average_udf = F.udf(exponentially_moving_average, FloatType())"
   ]
  },
  {
   "cell_type": "code",
   "execution_count": 651,
   "metadata": {},
   "outputs": [],
   "source": [
    "window_request = Window.orderBy('timestamp_upto_minute')\n",
    "\n",
    "offsets, delays =  [-5, -4, -3, -2, -1], [.05, .05, .2, .2, 0.5]\n",
    "\n",
    "df_prediction_wma = df_features_raw.withColumn('next_minute_predicted_load', weighted_average(\n",
    "    F.col('request_count'), window_request, offsets, delays\n",
    "))\n",
    "\n",
    "df_prediction_wma_pd = df_prediction_wma.select('next_minute_predicted_load').toPandas()"
   ]
  },
  {
   "cell_type": "code",
   "execution_count": 659,
   "metadata": {},
   "outputs": [],
   "source": [
    "df_prediction_ema = df_features_raw.withColumn('row_nr', F.row_number().over(window_request)) \\\n",
    "                        .withColumn('next_minute_predicted_load', \n",
    "                                    exponentially_moving_average_udf(F.col('row_nr'), \n",
    "                                                                     F.collect_list('request_count') \\\n",
    "                                                                      .over(window_request)))\n",
    "\n",
    "df_prediction_ema_pd = df_prediction_ema.select('next_minute_predicted_load').toPandas()"
   ]
  },
  {
   "cell_type": "code",
   "execution_count": 662,
   "metadata": {},
   "outputs": [],
   "source": [
    "actual_request_count = df_features_raw.select('request_count').toPandas()"
   ]
  },
  {
   "cell_type": "code",
   "execution_count": 663,
   "metadata": {},
   "outputs": [
    {
     "data": {
      "text/plain": [
       "0.739741809413078"
      ]
     },
     "execution_count": 663,
     "metadata": {},
     "output_type": "execute_result"
    }
   ],
   "source": [
    "r2_score(actual_request_count.values, df_prediction_ema_pd.values)"
   ]
  },
  {
   "cell_type": "code",
   "execution_count": 665,
   "metadata": {},
   "outputs": [
    {
     "data": {
      "text/plain": [
       "0.4972582686505911"
      ]
     },
     "execution_count": 665,
     "metadata": {},
     "output_type": "execute_result"
    }
   ],
   "source": [
    "r2_score(actual_request_count.values, df_prediction_wma_pd.values)"
   ]
  },
  {
   "cell_type": "markdown",
   "metadata": {},
   "source": [
    "### Linear Regression in Spark"
   ]
  },
  {
   "cell_type": "code",
   "execution_count": 686,
   "metadata": {},
   "outputs": [],
   "source": [
    "window_size = 5\n",
    "df_features_reg = df_features_raw.select(*[F.lag('request_count', i) \\\n",
    "                                            .over(window_request).alias('prev_request_count_{}'.format(i)) \n",
    "                                           for i in range(1, window_size + 1)], 'request_count')\n",
    "reg_input_columns = ['prev_request_count_{}'.format(i) for i in range(1, window_size + 1)]"
   ]
  },
  {
   "cell_type": "code",
   "execution_count": 706,
   "metadata": {},
   "outputs": [
    {
     "name": "stdout",
     "output_type": "stream",
     "text": [
      "+------------------------------------+-------------+\n",
      "|features                            |request_count|\n",
      "+------------------------------------+-------------+\n",
      "|[4680.0,4734.0,5586.0,6787.0,4681.0]|323          |\n",
      "|[323.0,4680.0,4734.0,5586.0,6787.0] |0            |\n",
      "|[0.0,323.0,4680.0,4734.0,5586.0]    |0            |\n",
      "+------------------------------------+-------------+\n",
      "only showing top 3 rows\n",
      "\n"
     ]
    }
   ],
   "source": [
    "vectorAssembler = VectorAssembler(inputCols = reg_input_columns, \n",
    "                                  outputCol = 'features')\n",
    "\n",
    "# encoder = OneHotEncoderEstimator(inputCols=[ 'month', 'day', 'week_day', 'hour', 'minute'],\n",
    "#                                  outputCols=['month_vec', 'day_vec', 'week_day_vec', 'hour_vec', 'minute_vec'])\n",
    "# model = encoder.fit(df_features.dropna())\n",
    "# encoded = model.transform(df_features.dropna())\n",
    "\n",
    "vdf_features_reg = vectorAssembler.transform(df_features_reg.dropna())\n",
    "vdf_features_reg = vdf_features_reg.select(['features', 'request_count'])\n",
    "# vdf_features.show(3, False)\n",
    "vdf_features_reg.show(3, False)"
   ]
  },
  {
   "cell_type": "code",
   "execution_count": 703,
   "metadata": {},
   "outputs": [],
   "source": [
    "splits = vdf_features_reg.randomSplit([0.7, 0.3], seed=1)\n",
    "train_df_reg = splits[0]\n",
    "test_df_reg = splits[1]"
   ]
  },
  {
   "cell_type": "code",
   "execution_count": 690,
   "metadata": {},
   "outputs": [
    {
     "name": "stdout",
     "output_type": "stream",
     "text": [
      "Coefficients: [1.2172212117620642,-0.4332475188416352,0.26794654697985737,-0.5309461594159032,0.2942995053374071]\n",
      "Intercept: 185.94379463364305\n"
     ]
    }
   ],
   "source": [
    "lr = LinearRegression(featuresCol = 'features', labelCol='request_count', maxIter=100, \n",
    "                      regParam=0.3, elasticNetParam=0.8)\n",
    "lr_model = lr.fit(train_df_reg)\n",
    "print(\"Coefficients: \" + str(lr_model.coefficients))\n",
    "print(\"Intercept: \" + str(lr_model.intercept))"
   ]
  },
  {
   "cell_type": "code",
   "execution_count": null,
   "metadata": {},
   "outputs": [],
   "source": [
    "trainScore = mean_absolute_error(trainY, trainPredict[:,0])\n",
    "print('Train Score: %.2f MAE' % (trainScore))\n",
    "testScore = mean_absolute_error(testY, testPredict[:,0])\n",
    "print('Test Score: %.2f MAE' % (testScore))"
   ]
  },
  {
   "cell_type": "code",
   "execution_count": 691,
   "metadata": {},
   "outputs": [
    {
     "name": "stdout",
     "output_type": "stream",
     "text": [
      "MAE: 664.033459\n",
      "r2: 0.785865\n"
     ]
    }
   ],
   "source": [
    "trainingSummary = lr_model.summary\n",
    "print(\"MAE: %f\" % trainingSummary.meanAbsoluteError)\n",
    "print(\"r2: %f\" % trainingSummary.r2)"
   ]
  },
  {
   "cell_type": "code",
   "execution_count": 692,
   "metadata": {},
   "outputs": [
    {
     "name": "stdout",
     "output_type": "stream",
     "text": [
      "+-------+-----------------+\n",
      "|summary|    request_count|\n",
      "+-------+-----------------+\n",
      "|  count|               80|\n",
      "|   mean|       10272.3875|\n",
      "| stddev|9112.037586320926|\n",
      "|    min|                1|\n",
      "|    max|            24841|\n",
      "+-------+-----------------+\n",
      "\n"
     ]
    }
   ],
   "source": [
    "train_df.describe().show()"
   ]
  },
  {
   "cell_type": "code",
   "execution_count": 696,
   "metadata": {},
   "outputs": [
    {
     "name": "stdout",
     "output_type": "stream",
     "text": [
      "R Squared (R2) on test data = 0.783014\n"
     ]
    }
   ],
   "source": [
    "lr_predictions = lr_model.transform(test_df_reg)\n",
    "# lr_predictions.select(\"prediction\", \"request_count\", \"features\").show(5, False)\n",
    "lr_evaluator = RegressionEvaluator(predictionCol=\"prediction\", \\\n",
    "                 labelCol=\"request_count\",metricName=\"r2\")\n",
    "print(\"R Squared (R2) on test data = %g\" % lr_evaluator.evaluate(lr_predictions))"
   ]
  },
  {
   "cell_type": "code",
   "execution_count": 713,
   "metadata": {},
   "outputs": [],
   "source": [
    "df_predictions_reg = lr_model.transform(test_df_reg)\n",
    "df_prediction_reg_pd = df_predictions_reg.select('prediction').toPandas()"
   ]
  },
  {
   "cell_type": "code",
   "execution_count": 716,
   "metadata": {},
   "outputs": [
    {
     "data": {
      "text/plain": [
       "0.7830137915068395"
      ]
     },
     "execution_count": 716,
     "metadata": {},
     "output_type": "execute_result"
    }
   ],
   "source": [
    "r2_score(test_df_reg.select('request_count').toPandas().values, df_prediction_reg_pd.values)"
   ]
  },
  {
   "cell_type": "code",
   "execution_count": 718,
   "metadata": {},
   "outputs": [
    {
     "name": "stdout",
     "output_type": "stream",
     "text": [
      "Test Score: 718.00 MAE\n"
     ]
    }
   ],
   "source": [
    "test_score_reg = mean_absolute_error(test_df_reg.select('request_count').toPandas().values, df_prediction_reg_pd.values)\n",
    "print('Test Score: %.2f MAE' % (test_score_reg))"
   ]
  },
  {
   "cell_type": "markdown",
   "metadata": {},
   "source": [
    "### Predict with LSTM"
   ]
  },
  {
   "cell_type": "code",
   "execution_count": 751,
   "metadata": {},
   "outputs": [],
   "source": [
    "df_features_lstm_pd = df_features_raw.select('request_count').toPandas()\n",
    "df_features_lstm_pd['request_count'] = df_features_lstm_pd['request_count'].astype('double')"
   ]
  },
  {
   "cell_type": "code",
   "execution_count": 533,
   "metadata": {},
   "outputs": [],
   "source": [
    "# resampled = df_features_pd.set_index('timestamp_upto_minute').resample('Min').first()\n",
    "# fill = resampled.fillna(0.0).rolling(3, min_periods=1).mean()\n",
    "# resampled = resampled.fillna(fill)\n",
    "# resampled= resampled.fillna(0)"
   ]
  },
  {
   "cell_type": "code",
   "execution_count": 722,
   "metadata": {},
   "outputs": [],
   "source": [
    "def create_dataset(dataset, look_back=1):\n",
    "    dataX, dataY = [], []\n",
    "    for i in range(len(dataset)-look_back-1):\n",
    "        a = dataset[i:(i+look_back), 0]\n",
    "        dataX.append(a)\n",
    "        dataY.append(dataset[i + look_back, 0])\n",
    "    return np.array(dataX), np.array(dataY)"
   ]
  },
  {
   "cell_type": "code",
   "execution_count": 734,
   "metadata": {},
   "outputs": [],
   "source": [
    "def predict_with_lstm(data, look_back=6, batch_size=1, normalize=True):\n",
    "    def pre_process(data, nomrmalize):       \n",
    "        train_size = int(len(data) * 0.7)\n",
    "        test_size = len(data) - train_size\n",
    "        train, test = data[0:train_size], data[train_size:len(resampled)]\n",
    "        train, test = train.values, test.values\n",
    "\n",
    "        if normalize:\n",
    "            scaler = MinMaxScaler(feature_range=(0, 1))\n",
    "            train = scaler.fit_transform(train)\n",
    "            test = scaler.transform(test)\n",
    "        return train, test\n",
    "    \n",
    "    def fit_model(trainX, trainY, look_back, batch_size):\n",
    "        model = Sequential()\n",
    "        model.add(layers.LSTM(32, input_shape=(None, look_back)))\n",
    "        model.add(layers.Dense(1))\n",
    "        model.compile(loss='mean_absolute_error', optimizer='adam')\n",
    "        model.fit(trainX, trainY, epochs=20, batch_size=batch_size)\n",
    "        \n",
    "    train, test = pre_process(data, normalize)   \n",
    "    trainX, trainY = create_dataset(train, look_back)\n",
    "    testX, testY = create_dataset(test, look_back)\n",
    "    \n",
    "    # reshape input to be [samples, time steps, features]\n",
    "    trainX = np.reshape(trainX, (trainX.shape[0], 1, trainX.shape[1]))\n",
    "    testX = np.reshape(testX, (testX.shape[0], 1, testX.shape[1]))\n",
    "        \n",
    "    # create and fit the LSTM network\n",
    "    fit_model(trainX, trainY, look_back, batch_size)\n",
    "    \n",
    "    trainPredict = model.predict(trainX)\n",
    "    testPredict = model.predict(testX)\n",
    "    \n",
    "    if normalize:\n",
    "        trainPredict = scaler.inverse_transform(trainPredict)\n",
    "        trainY = scaler.inverse_transform([trainY])[0]\n",
    "        testPredict = scaler.inverse_transform(testPredict)\n",
    "        testY = scaler.inverse_transform([testY])[0]\n",
    "    \n",
    "    trainScore = mean_absolute_error(trainY, trainPredict[:,0])\n",
    "    print('Train Score: %.2f MAE' % (trainScore))\n",
    "    testScore = mean_absolute_error(testY, testPredict[:,0])\n",
    "    print('Test Score: %.2f MAE' % (testScore))\n",
    "    \n",
    "    return trainY, testY, trainPredict, testPredict\n",
    "\n",
    "def plot_original(data):\n",
    "    figure = plt.figure(figsize=(15, 6))\n",
    "    plt.plot(data)\n",
    "    plt.xlabel('Timesteps (minutes)')\n",
    "    plt.ylabel('Load (Requests per minute)')\n",
    "    plt.title('Original Request Load Trend')\n",
    "    plt.show()\n",
    "    \n",
    "def plot_predictions(data, trainPredict, testPredict, look_back=6, normalized=False):\n",
    "    trainPredictPlot = np.empty_like(data)\n",
    "    trainPredictPlot[:, :] = np.nan\n",
    "    trainPredictPlot[look_back:len(trainPredict)+look_back, :] = trainPredict\n",
    "    # shift test predictions for plotting\n",
    "    testPredictPlot = np.empty_like(data)\n",
    "    testPredictPlot[:, :] = np.nan\n",
    "    testPredictPlot[len(trainPredict)+(look_back*2)+1:len(resampled)-1, :] = testPredict\n",
    "    # plot baseline and predictions\n",
    "    figure = plt.figure(figsize=(15, 6))\n",
    "    plt.plot(trainPredictPlot, label='Training')\n",
    "    plt.plot(testPredictPlot, label='Testing')\n",
    "    plt.xlabel('Timesteps (minutes)')\n",
    "    plt.ylabel('Load (Requests per minute)')\n",
    "    plt.title('Predicted Request Load Trend')\n",
    "    plt.legend()\n",
    "    plt.show()"
   ]
  },
  {
   "cell_type": "code",
   "execution_count": 747,
   "metadata": {},
   "outputs": [
    {
     "data": {
      "text/plain": [
       "(1111, 1)"
      ]
     },
     "execution_count": 747,
     "metadata": {},
     "output_type": "execute_result"
    }
   ],
   "source": [
    "trainPredictPlot.shape"
   ]
  },
  {
   "cell_type": "code",
   "execution_count": 737,
   "metadata": {},
   "outputs": [
    {
     "name": "stderr",
     "output_type": "stream",
     "text": [
      "/Users/asifiqbal/Development/anaconda/anaconda3/envs/asif_keras/lib/python3.6/site-packages/sklearn/utils/validation.py:590: DataConversionWarning: Data with input dtype int64 was converted to float64 by MinMaxScaler.\n",
      "  warnings.warn(msg, DataConversionWarning)\n"
     ]
    },
    {
     "name": "stdout",
     "output_type": "stream",
     "text": [
      "Epoch 1/20\n",
      "770/770 [==============================] - 7s 10ms/step - loss: 0.0299\n",
      "Epoch 2/20\n",
      "770/770 [==============================] - 2s 3ms/step - loss: 0.0212\n",
      "Epoch 3/20\n",
      "770/770 [==============================] - 2s 3ms/step - loss: 0.0183\n",
      "Epoch 4/20\n",
      "770/770 [==============================] - 2s 3ms/step - loss: 0.0168\n",
      "Epoch 5/20\n",
      "770/770 [==============================] - 2s 3ms/step - loss: 0.0155\n",
      "Epoch 6/20\n",
      "770/770 [==============================] - 2s 3ms/step - loss: 0.0153\n",
      "Epoch 7/20\n",
      "770/770 [==============================] - 2s 3ms/step - loss: 0.0150\n",
      "Epoch 8/20\n",
      "770/770 [==============================] - 2s 3ms/step - loss: 0.0150\n",
      "Epoch 9/20\n",
      "770/770 [==============================] - 2s 3ms/step - loss: 0.0147\n",
      "Epoch 10/20\n",
      "770/770 [==============================] - 2s 3ms/step - loss: 0.0142\n",
      "Epoch 11/20\n",
      "770/770 [==============================] - 2s 3ms/step - loss: 0.0145\n",
      "Epoch 12/20\n",
      "770/770 [==============================] - 2s 3ms/step - loss: 0.0144\n",
      "Epoch 13/20\n",
      "770/770 [==============================] - 2s 3ms/step - loss: 0.0144\n",
      "Epoch 14/20\n",
      "770/770 [==============================] - 2s 3ms/step - loss: 0.0143\n",
      "Epoch 15/20\n",
      "770/770 [==============================] - 2s 3ms/step - loss: 0.0143\n",
      "Epoch 16/20\n",
      "770/770 [==============================] - 2s 3ms/step - loss: 0.0145\n",
      "Epoch 17/20\n",
      "770/770 [==============================] - 2s 3ms/step - loss: 0.0139\n",
      "Epoch 18/20\n",
      "770/770 [==============================] - 2s 3ms/step - loss: 0.0140\n",
      "Epoch 19/20\n",
      "770/770 [==============================] - 2s 3ms/step - loss: 0.0139\n",
      "Epoch 20/20\n",
      "770/770 [==============================] - 2s 3ms/step - loss: 0.0138\n",
      "Train Score: 444.66 MAE\n",
      "Test Score: 725.60 MAE\n"
     ]
    }
   ],
   "source": [
    "train_y_lstm, test_y_lstm, train_predict_lstm, test_predict_lstm = \\\n",
    "        predict_with_lstm(df_features_lstm_pd, look_back=6, batch_size=1, normalize=True)"
   ]
  },
  {
   "cell_type": "code",
   "execution_count": 738,
   "metadata": {},
   "outputs": [
    {
     "data": {
      "text/plain": [
       "0.8495564620888152"
      ]
     },
     "execution_count": 738,
     "metadata": {},
     "output_type": "execute_result"
    }
   ],
   "source": [
    "r2_score(test_y_lstm, test_predict_lstm)"
   ]
  },
  {
   "cell_type": "code",
   "execution_count": 753,
   "metadata": {},
   "outputs": [
    {
     "data": {
      "image/png": "[encoded data removed]",
      "text/plain": [
       "<Figure size 1080x432 with 1 Axes>"
      ]
     },
     "metadata": {
      "needs_background": "light"
     },
     "output_type": "display_data"
    },
    {
     "data": {
      "image/png": "[encoded data removed]",
      "text/plain": [
       "<Figure size 1080x432 with 1 Axes>"
      ]
     },
     "metadata": {
      "needs_background": "light"
     },
     "output_type": "display_data"
    }
   ],
   "source": [
    "plot_original(df_features_lstm_pd.values)\n",
    "# plot_predictions()\n",
    "plot_predictions(df_features_lstm_pd.values, train_predict_lstm, test_predict_lstm)"
   ]
  },
  {
   "cell_type": "markdown",
   "metadata": {},
   "source": [
    "### Predict session length for a Given IP"
   ]
  },
  {
   "cell_type": "code",
   "execution_count": 479,
   "metadata": {},
   "outputs": [],
   "source": [
    "window = Window.partitionBy('client_ip').orderBy('session_start_time')#.rowsBetween(-5, -5)"
   ]
  },
  {
   "cell_type": "code",
   "execution_count": 446,
   "metadata": {},
   "outputs": [
    {
     "name": "stdout",
     "output_type": "stream",
     "text": [
      "+------------+---------------+-------------------+------------------+------------------+\n",
      "|client_ip   |user_session_id|session_start_time |session_length    |moving_length     |\n",
      "+------------+---------------+-------------------+------------------+------------------+\n",
      "|1.186.143.37|1              |1.437596076308131E9|8.547727108001709 |8.547727108001709 |\n",
      "|1.187.164.29|1              |1.437547411135201E9|69.36416792869568 |69.36416792869568 |\n",
      "|1.22.41.76  |1              |1.43759777901417E9 |62.31779098510742 |62.31779098510742 |\n",
      "|1.23.208.26 |1              |1.437601301431398E9|1145.6662831306458|1145.6662831306458|\n",
      "|1.23.36.184 |1              |1.437556464807342E9|14.42006778717041 |14.42006778717041 |\n",
      "+------------+---------------+-------------------+------------------+------------------+\n",
      "only showing top 5 rows\n",
      "\n"
     ]
    }
   ],
   "source": [
    "df_session_with_length.withColumn(\"moving_length\", F.avg(('session_length')).over(window)) \\\n",
    "    .show(5, False)"
   ]
  },
  {
   "cell_type": "code",
   "execution_count": 495,
   "metadata": {},
   "outputs": [
    {
     "name": "stdout",
     "output_type": "stream",
     "text": [
      "+------------+---------------+-------------------+------------------+-----------------------------+\n",
      "|client_ip   |user_session_id|session_start_time |session_length    |next_session_predicted_length|\n",
      "+------------+---------------+-------------------+------------------+-----------------------------+\n",
      "|1.186.143.37|1              |1.437596076308131E9|8.547727108001709 |3.4190908432006837           |\n",
      "|1.187.164.29|1              |1.437547411135201E9|69.36416792869568 |27.745667171478274           |\n",
      "|1.22.41.76  |1              |1.43759777901417E9 |62.31779098510742 |24.92711639404297            |\n",
      "|1.23.208.26 |1              |1.437601301431398E9|1145.6662831306458|458.26651325225833           |\n",
      "|1.23.36.184 |1              |1.437556464807342E9|14.42006778717041 |5.768027114868165            |\n",
      "+------------+---------------+-------------------+------------------+-----------------------------+\n",
      "only showing top 5 rows\n",
      "\n"
     ]
    }
   ],
   "source": [
    "offsets, delays =  [-4, -3, -2, -1, 0], [.1, .1, .2, .2, 0.4]\n",
    "\n",
    "df_session_with_length.withColumn('next_session_predicted_length', weighted_average(\n",
    "    F.col(\"session_length\"), window, offsets, delays\n",
    ")).show(5, False)"
   ]
  },
  {
   "cell_type": "code",
   "execution_count": 497,
   "metadata": {},
   "outputs": [
    {
     "name": "stdout",
     "output_type": "stream",
     "text": [
      "+--------------+-------------------------------+\n",
      "|client_ip     |count(DISTINCT user_session_id)|\n",
      "+--------------+-------------------------------+\n",
      "|220.226.206.7 |11                             |\n",
      "|185.20.4.220  |8                              |\n",
      "|54.251.31.140 |8                              |\n",
      "|207.46.13.22  |8                              |\n",
      "|117.239.35.226|8                              |\n",
      "+--------------+-------------------------------+\n",
      "\n"
     ]
    }
   ],
   "source": [
    "spark.sql(\"\"\"\n",
    "    select client_ip, count(distinct user_session_id)\n",
    "    from df_session_with_length\n",
    "    group by 1\n",
    "    order by 2 desc\n",
    "    limit 5\n",
    "\"\"\").show(5, False)"
   ]
  },
  {
   "cell_type": "code",
   "execution_count": 604,
   "metadata": {},
   "outputs": [],
   "source": []
  },
  {
   "cell_type": "code",
   "execution_count": 606,
   "metadata": {},
   "outputs": [],
   "source": []
  },
  {
   "cell_type": "code",
   "execution_count": 614,
   "metadata": {},
   "outputs": [],
   "source": [
    "all_minutes = spark.createDataFrame(times, TimestampType())\n",
    "all_minutes.createOrReplaceTempView('all_minutes')"
   ]
  },
  {
   "cell_type": "code",
   "execution_count": 622,
   "metadata": {},
   "outputs": [],
   "source": []
  },
  {
   "cell_type": "code",
   "execution_count": null,
   "metadata": {},
   "outputs": [],
   "source": []
  }
 ],
 "metadata": {
  "kernelspec": {
   "display_name": "Python 3",
   "language": "python",
   "name": "python3"
  },
  "language_info": {
   "codemirror_mode": {
    "name": "ipython",
    "version": 3
   },
   "file_extension": ".py",
   "mimetype": "text/x-python",
   "name": "python",
   "nbconvert_exporter": "python",
   "pygments_lexer": "ipython3",
   "version": "3.6.7"
  }
 },
 "nbformat": 4,
 "nbformat_minor": 2
}
